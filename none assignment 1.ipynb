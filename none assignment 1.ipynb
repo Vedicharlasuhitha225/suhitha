{
 "cells": [
  {
   "cell_type": "code",
   "execution_count": 1,
   "id": "f876b9df",
   "metadata": {},
   "outputs": [
    {
     "name": "stdout",
     "output_type": "stream",
     "text": [
      "none\n"
     ]
    }
   ],
   "source": [
    "# Question 1: Create a variable and assign None to it\n",
    "x=\"none\"\n",
    "print(x)"
   ]
  },
  {
   "cell_type": "code",
   "execution_count": 4,
   "id": "a1cb25b6",
   "metadata": {},
   "outputs": [
    {
     "name": "stdout",
     "output_type": "stream",
     "text": [
      "True\n"
     ]
    }
   ],
   "source": [
    "# Question 2: Check if None equals None\n",
    "print(None == None)"
   ]
  },
  {
   "cell_type": "code",
   "execution_count": 5,
   "id": "51625d52",
   "metadata": {},
   "outputs": [
    {
     "name": "stdout",
     "output_type": "stream",
     "text": [
      "True\n"
     ]
    }
   ],
   "source": [
    "# Question 3: Check if None is None\n",
    "print(None is None)"
   ]
  },
  {
   "cell_type": "code",
   "execution_count": 7,
   "id": "0fb8a5e8",
   "metadata": {},
   "outputs": [
    {
     "name": "stdout",
     "output_type": "stream",
     "text": [
      "False\n"
     ]
    }
   ],
   "source": [
    "# Question 4: Check if 0 is None\n",
    "print(0 == None)"
   ]
  },
  {
   "cell_type": "code",
   "execution_count": 10,
   "id": "3703e8bc",
   "metadata": {},
   "outputs": [
    {
     "name": "stdout",
     "output_type": "stream",
     "text": [
      "False\n"
     ]
    }
   ],
   "source": [
    "# Question 5: Check if empty string is None\n",
    "x=\" \"\n",
    "print(x== None)"
   ]
  },
  {
   "cell_type": "code",
   "execution_count": 12,
   "id": "3ea2c39a",
   "metadata": {},
   "outputs": [
    {
     "name": "stdout",
     "output_type": "stream",
     "text": [
      "False\n"
     ]
    }
   ],
   "source": [
    "# Question 6: Check if False is None\n",
    "print(False == None)"
   ]
  },
  {
   "cell_type": "code",
   "execution_count": 13,
   "id": "d90a21dc",
   "metadata": {},
   "outputs": [
    {
     "name": "stdout",
     "output_type": "stream",
     "text": [
      "False\n"
     ]
    }
   ],
   "source": [
    "# Question 7: Check if empty list is None\n",
    "x=[ ]\n",
    "print(x == None)"
   ]
  },
  {
   "cell_type": "code",
   "execution_count": 15,
   "id": "184aa02a",
   "metadata": {},
   "outputs": [
    {
     "name": "stdout",
     "output_type": "stream",
     "text": [
      "False\n"
     ]
    }
   ],
   "source": [
    "# Question 8: Check if empty dictionary is None\n",
    "x={}\n",
    "print(x==None)"
   ]
  },
  {
   "cell_type": "code",
   "execution_count": 17,
   "id": "0aaa15d6",
   "metadata": {},
   "outputs": [
    {
     "name": "stdout",
     "output_type": "stream",
     "text": [
      "False\n"
     ]
    }
   ],
   "source": [
    "# Question 9: Check if empty tuple is None\n",
    "x=()\n",
    "print(x==None)"
   ]
  },
  {
   "cell_type": "code",
   "execution_count": 18,
   "id": "cfee06ed",
   "metadata": {},
   "outputs": [
    {
     "name": "stdout",
     "output_type": "stream",
     "text": [
      "False\n"
     ]
    }
   ],
   "source": [
    "# Question 10: Check if empty set is None\n",
    "x={}\n",
    "print(x == None)"
   ]
  }
 ],
 "metadata": {
  "kernelspec": {
   "display_name": "Python 3",
   "language": "python",
   "name": "python3"
  },
  "language_info": {
   "codemirror_mode": {
    "name": "ipython",
    "version": 3
   },
   "file_extension": ".py",
   "mimetype": "text/x-python",
   "name": "python",
   "nbconvert_exporter": "python",
   "pygments_lexer": "ipython3",
   "version": "3.13.5"
  }
 },
 "nbformat": 4,
 "nbformat_minor": 5
}
