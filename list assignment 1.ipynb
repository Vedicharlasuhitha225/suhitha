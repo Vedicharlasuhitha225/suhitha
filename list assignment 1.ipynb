{
 "cells": [
  {
   "cell_type": "code",
   "execution_count": 2,
   "id": "2f5c492e",
   "metadata": {},
   "outputs": [
    {
     "name": "stdout",
     "output_type": "stream",
     "text": [
      "[1, 4, 9, 16, 25, 36, 49, 64, 81, 100]\n"
     ]
    }
   ],
   "source": [
    "# Question 1: Create a list of first 10 square numbers\n",
    "squ= [i ** 2 for i in range(1, 11)]\n",
    "print(squ)"
   ]
  },
  {
   "cell_type": "code",
   "execution_count": null,
   "id": "d0e0701e",
   "metadata": {},
   "outputs": [
    {
     "name": "stdout",
     "output_type": "stream",
     "text": [
      "30\n"
     ]
    }
   ],
   "source": [
    "# Question 2: Find the sum of all even numbers in [1, 2, 3, 4, 5, 6, 7, 8, 9, 10]\n",
    "a = [1, 2, 3, 4, 5, 6, 7, 8, 9, 10]\n",
    "result = sum(i for i in a if i % 2 == 0)\n",
    "print(result)"
   ]
  },
  {
   "cell_type": "code",
   "execution_count": 15,
   "id": "cbc157b6",
   "metadata": {},
   "outputs": [
    {
     "data": {
      "text/plain": [
       "[1, 2, 3, 4, 5, 6, 7]"
      ]
     },
     "execution_count": 15,
     "metadata": {},
     "output_type": "execute_result"
    }
   ],
   "source": [
    "# Question 3: Remove duplicates from [1, 2, 2, 3, 4, 4, 5, 6, 6, 7]\n",
    "s = [1, 2, 2, 3, 4, 4, 5, 6, 6, 7]\n",
    "p = list(set(s))\n",
    "p"
   ]
  },
  {
   "cell_type": "code",
   "execution_count": 13,
   "id": "fd78eaca",
   "metadata": {},
   "outputs": [
    {
     "data": {
      "text/plain": [
       "[90, 64, 34, 25, 22, 12, 11]"
      ]
     },
     "execution_count": 13,
     "metadata": {},
     "output_type": "execute_result"
    }
   ],
   "source": [
    "# Question 4: Sort the list [64, 34, 25, 12, 22, 11, 90] in descending order\n",
    "des = [64, 34, 25, 12, 22, 11, 90]\n",
    "des.sort(reverse = True)\n",
    "(des)"
   ]
  },
  {
   "cell_type": "code",
   "execution_count": 16,
   "id": "c4914d19",
   "metadata": {},
   "outputs": [
    {
     "data": {
      "text/plain": [
       "48.0"
      ]
     },
     "execution_count": 16,
     "metadata": {},
     "output_type": "execute_result"
    }
   ],
   "source": [
    "# Question 5: Find the average of numbers in [15, 23, 31, 42, 56, 78, 91]\n",
    "num = [15, 23, 31, 42, 56, 78, 91]\n",
    "aver = sum(num) / len(num)\n",
    "aver"
   ]
  },
  {
   "cell_type": "code",
   "execution_count": 17,
   "id": "d08055e0",
   "metadata": {},
   "outputs": [
    {
     "data": {
      "text/plain": [
       "[0, 1, 1, 2, 3, 5, 8, 13, 21, 34, 55, 89, 144, 233, 377]"
      ]
     },
     "execution_count": 17,
     "metadata": {},
     "output_type": "execute_result"
    }
   ],
   "source": [
    "# Question 6: Create a list of first 15 Fibonacci numbers\n",
    "fibo = [0,1]\n",
    "\n",
    "for i in range(2,15):\n",
    "    num = fibo[-1] + fibo[-2]\n",
    "    fibo.append(num)\n",
    "fibo"
   ]
  },
  {
   "cell_type": "code",
   "execution_count": 18,
   "id": "cd0be4ac",
   "metadata": {},
   "outputs": [
    {
     "data": {
      "text/plain": [
       "78"
      ]
     },
     "execution_count": 18,
     "metadata": {},
     "output_type": "execute_result"
    }
   ],
   "source": [
    "# Question 7: Find the second largest number in [45, 67, 23, 89, 12, 34, 78]\n",
    "x = [45, 67, 23, 89, 12, 34, 78]\n",
    "p = sorted(x,reverse = True)\n",
    "res = p[1]\n",
    "res"
   ]
  },
  {
   "cell_type": "code",
   "execution_count": 19,
   "id": "805797d0",
   "metadata": {},
   "outputs": [
    {
     "data": {
      "text/plain": [
       "[10, 9, 8, 7, 6, 5, 4, 3, 2, 1]"
      ]
     },
     "execution_count": 19,
     "metadata": {},
     "output_type": "execute_result"
    }
   ],
   "source": [
    "# Question 8: Reverse the list [1, 2, 3, 4, 5, 6, 7, 8, 9, 10]\n",
    "x = [1, 2, 3, 4, 5, 6, 7, 8, 9, 10]\n",
    "x[::-1]"
   ]
  },
  {
   "cell_type": "code",
   "execution_count": 20,
   "id": "e993b6e6",
   "metadata": {},
   "outputs": [
    {
     "data": {
      "text/plain": [
       "4"
      ]
     },
     "execution_count": 20,
     "metadata": {},
     "output_type": "execute_result"
    }
   ],
   "source": [
    "# Question 9: Count how many times 5 appears in [1, 5, 2, 5, 3, 5, 4, 5, 6]\n",
    "a = [1, 5, 2, 5, 3, 5, 4, 5, 6]\n",
    "res = a.count(5)\n",
    "res"
   ]
  },
  {
   "cell_type": "code",
   "execution_count": 34,
   "id": "f44bb6a4",
   "metadata": {},
   "outputs": [
    {
     "ename": "TypeError",
     "evalue": "'list' object is not callable",
     "output_type": "error",
     "traceback": [
      "\u001b[31m---------------------------------------------------------------------------\u001b[39m",
      "\u001b[31mTypeError\u001b[39m                                 Traceback (most recent call last)",
      "\u001b[36mCell\u001b[39m\u001b[36m \u001b[39m\u001b[32mIn[34]\u001b[39m\u001b[32m, line 11\u001b[39m\n\u001b[32m      8\u001b[39m     \u001b[38;5;28;01melse\u001b[39;00m:\n\u001b[32m      9\u001b[39m         primes.append(num)\n\u001b[32m---> \u001b[39m\u001b[32m11\u001b[39m \u001b[38;5;28;43mprint\u001b[39;49m\u001b[43m(\u001b[49m\u001b[43mprimes\u001b[49m\u001b[43m)\u001b[49m\n",
      "\u001b[31mTypeError\u001b[39m: 'list' object is not callable"
     ]
    }
   ],
   "source": [
    "# Question 10: Create a list of prime numbers between 1 and 50\n",
    "primes = []\n",
    "\n",
    "for num in range(2, 51):\n",
    "    for i in range(2, num):\n",
    "        if num % i == 0:\n",
    "            break\n",
    "    else:\n",
    "        primes.append(num)\n",
    "        \n",
    "print(primes)"
   ]
  },
  {
   "cell_type": "code",
   "execution_count": 1,
   "id": "6d4b6d59",
   "metadata": {},
   "outputs": [
    {
     "name": "stdout",
     "output_type": "stream",
     "text": [
      "[1, 2, 3, 4, 5, 6, 7, 8, 9]\n"
     ]
    }
   ],
   "source": [
    "# Question 11: Flatten nested list [[1, 2, 3], [4, 5, 6], [7, 8, 9]]\n",
    "list=[[1, 2, 3], [4, 5, 6], [7, 8, 9]]\n",
    "flat_list=[]\n",
    "for sublist in list:\n",
    "    for item in sublist:\n",
    "        flat_list.append(item)\n",
    "print(flat_list)"
   ]
  },
  {
   "cell_type": "code",
   "execution_count": 16,
   "id": "a22a8c12",
   "metadata": {},
   "outputs": [
    {
     "name": "stdout",
     "output_type": "stream",
     "text": [
      "[4, 5]\n"
     ]
    }
   ],
   "source": [
    "# Question 12: Find common elements between [1, 2, 3, 4, 5] and [4, 5, 6, 7, 8]\n",
    "list1=[1, 2, 3, 4, 5]\n",
    "list2=[4, 5, 6, 7, 8]\n",
    "common_elements= [item for item in list1 if item in list2]\n",
    "print(common_elements)"
   ]
  },
  {
   "cell_type": "code",
   "execution_count": 8,
   "id": "cc9ef4f9",
   "metadata": {},
   "outputs": [
    {
     "name": "stdout",
     "output_type": "stream",
     "text": [
      "[6, 15, 24]\n"
     ]
    }
   ],
   "source": [
    "# Question 14: Find the sum of each sublist in [[1, 2, 3], [4, 5, 6], [7, 8, 9]]\n",
    "nested_list = [[1, 2, 3], [4, 5, 6], [7, 8, 9]]\n",
    "result = []\n",
    "\n",
    "for sublist in nested_list:\n",
    "    total = 0                   \n",
    "    for item in sublist:       \n",
    "        total += item          \n",
    "    result.append(total)       # store the sum in a list\n",
    "\n",
    "print(result)"
   ]
  },
  {
   "cell_type": "code",
   "execution_count": 9,
   "id": "c94789bf",
   "metadata": {},
   "outputs": [
    {
     "name": "stdout",
     "output_type": "stream",
     "text": [
      "[[1, 4, 7], [2, 5, 8], [3, 6, 9]]\n"
     ]
    }
   ],
   "source": [
    "# Question 15: Transpose the matrix [[1, 2, 3], [4, 5, 6], [7, 8, 9]]\n",
    "matrix=[[1, 2, 3], [4, 5, 6], [7, 8, 9]]\n",
    "transpose=[]\n",
    "for i in range(3):\n",
    "    row=[]\n",
    "\n",
    "    for j in range(3):\n",
    "        row.append(matrix[j][i])\n",
    "    transpose.append(row)\n",
    "print(transpose)"
   ]
  },
  {
   "cell_type": "code",
   "execution_count": 10,
   "id": "87489e65",
   "metadata": {},
   "outputs": [
    {
     "name": "stdout",
     "output_type": "stream",
     "text": [
      "[5, 9, 8]\n"
     ]
    }
   ],
   "source": [
    "# Question 16: Find the maximum value in each sublist of [[1, 5, 3], [9, 2, 7], [4, 8, 6]]\n",
    "list=[[1, 5, 3], [9, 2, 7], [4, 8, 6]]\n",
    "result=[]\n",
    "for sublist in list:\n",
    "    result.append(max(sublist))\n",
    "print(result)"
   ]
  },
  {
   "cell_type": "code",
   "execution_count": 25,
   "id": "b0600249",
   "metadata": {},
   "outputs": [
    {
     "name": "stdout",
     "output_type": "stream",
     "text": [
      "[[[1, 2], [3, 4]], [[5, 6], [7, 8]]]\n"
     ]
    }
   ],
   "source": [
    "# Question 17: Create a 3D list: [[[1, 2], [3, 4]], [[5, 6], [7, 8]]]\n",
    "my_list = ([[[1, 2], [3, 4]], [[5, 6], [7, 8]]])\n",
    "print(my_list)"
   ]
  },
  {
   "cell_type": "code",
   "execution_count": 18,
   "id": "e28de35c",
   "metadata": {},
   "outputs": [
    {
     "name": "stdout",
     "output_type": "stream",
     "text": [
      "36\n"
     ]
    }
   ],
   "source": [
    "# Question 18: Find the sum of all elements in 3D list [[[1, 2], [3, 4]], [[5, 6], [7, 8]]]\n",
    "arr = [[[1, 2], [3, 4]], [[5, 6], [7, 8]]]\n",
    "total = 0\n",
    "\n",
    "for block in arr:        \n",
    "    for sub in block:     \n",
    "        for num in sub:  \n",
    "            total += num\n",
    "\n",
    "print(total)"
   ]
  },
  {
   "cell_type": "code",
   "execution_count": 19,
   "id": "46c89f76",
   "metadata": {},
   "outputs": [
    {
     "name": "stdout",
     "output_type": "stream",
     "text": [
      "[2, 4, 6, 8]\n"
     ]
    }
   ],
   "source": [
    "# Question 19: Extract all even numbers from nested list [[1, 2, 3], [4, 5, 6], [7, 8, 9]]\n",
    "nested_list = [[1, 2, 3], [4, 5, 6], [7, 8, 9]]\n",
    "evens = []\n",
    "\n",
    "for sublist in nested_list:\n",
    "    for num in sublist:\n",
    "        if num % 2 == 0:      \n",
    "            evens.append(num)\n",
    "\n",
    "print(evens)"
   ]
  },
  {
   "cell_type": "code",
   "execution_count": 20,
   "id": "9acc62c7",
   "metadata": {},
   "outputs": [
    {
     "name": "stdout",
     "output_type": "stream",
     "text": [
      "[1, 'hello', 3.14, True, [1, 2, 3]]\n"
     ]
    }
   ],
   "source": [
    "# Question 20: Create a list of mixed data types: [1, \"hello\", 3.14, True, [1, 2, 3]]\n",
    "mixed_list=[1, \"hello\", 3.14, True, [1, 2, 3]]\n",
    "print(mixed_list)"
   ]
  },
  {
   "cell_type": "code",
   "execution_count": 21,
   "id": "183fa4b0",
   "metadata": {},
   "outputs": [
    {
     "name": "stdout",
     "output_type": "stream",
     "text": [
      "[5, 6, 6, 4]\n"
     ]
    }
   ],
   "source": [
    "# Question 21: Find the length of each string in [\"apple\", \"banana\", \"cherry\", \"date\"]\n",
    "a=[\"apple\", \"banana\", \"cherry\", \"date\"]\n",
    "length=[]\n",
    "for i in a:\n",
    "    length.append(len(i))\n",
    "print(length)"
   ]
  },
  {
   "cell_type": "code",
   "execution_count": 24,
   "id": "6f019f77",
   "metadata": {},
   "outputs": [
    {
     "name": "stdout",
     "output_type": "stream",
     "text": [
      "[(1, 'a'), (2, 'b'), (3, 'c')]\n"
     ]
    }
   ],
   "source": [
    "# Question 22: Create a list of tuples: [(1, 'a'), (2, 'b'), (3, 'c')]\n",
    "x = ([(1, 'a'), (2, 'b'), (3, 'c')])\n",
    "print(x)"
   ]
  },
  {
   "cell_type": "code",
   "execution_count": 26,
   "id": "a95efbd9",
   "metadata": {},
   "outputs": [
    {
     "name": "stdout",
     "output_type": "stream",
     "text": [
      "[{'name': 'Alice', 'age': 25}, {'name': 'Bob', 'age': 30}]\n"
     ]
    }
   ],
   "source": [
    "# Question 24: Create a list of dictionaries: [{'name': 'Alice', 'age': 25}, {'name': 'Bob', 'age': 30}]\n",
    "my_dict=([{'name': 'Alice', 'age': 25}, {'name': 'Bob', 'age': 30}])\n",
    "print(my_dict)"
   ]
  },
  {
   "cell_type": "code",
   "execution_count": 27,
   "id": "29443511",
   "metadata": {},
   "outputs": [
    {
     "name": "stdout",
     "output_type": "stream",
     "text": [
      "['Alice', 'Bob']\n"
     ]
    }
   ],
   "source": [
    "# Question 25: Extract all 'name' values from list of dictionaries\n",
    "my_dict=([{'name': 'Alice', 'age': 25}, {'name': 'Bob', 'age': 30}])\n",
    "names=[]\n",
    "for person in my_dict:\n",
    "    names.append(person['name'])\n",
    "print(names)"
   ]
  },
  {
   "cell_type": "code",
   "execution_count": 29,
   "id": "9315ad9d",
   "metadata": {},
   "outputs": [
    {
     "name": "stdout",
     "output_type": "stream",
     "text": [
      "[{'name': 'Alice', 'age': 25}, {'name': 'Bob', 'age': 30}]\n"
     ]
    }
   ],
   "source": [
    "# Question 26: Find the person with maximum age in list of dictionaries\n",
    "my_dict=([{'name': 'Alice', 'age': 25}, {'name': 'Bob', 'age': 30}])\n",
    "print(my_dict)"
   ]
  },
  {
   "cell_type": "code",
   "execution_count": 30,
   "id": "97c0e538",
   "metadata": {},
   "outputs": [
    {
     "ename": "TypeError",
     "evalue": "'list' object is not callable",
     "output_type": "error",
     "traceback": [
      "\u001b[31m---------------------------------------------------------------------------\u001b[39m",
      "\u001b[31mTypeError\u001b[39m                                 Traceback (most recent call last)",
      "\u001b[36mCell\u001b[39m\u001b[36m \u001b[39m\u001b[32mIn[30]\u001b[39m\u001b[32m, line 4\u001b[39m\n\u001b[32m      1\u001b[39m \u001b[38;5;66;03m# Question 27: Create a 4D list: [[[[1, 2], [3, 4]], [[5, 6], [7, 8]]], [[[9, 10], [11, 12]], [[13, 14], [15, 16]]]]\u001b[39;00m\n\u001b[32m      2\u001b[39m a = \u001b[38;5;28mlist\u001b[39m([\n\u001b[32m      3\u001b[39m     \u001b[38;5;28mlist\u001b[39m([\n\u001b[32m----> \u001b[39m\u001b[32m4\u001b[39m         \u001b[38;5;28mlist\u001b[39m([\u001b[38;5;28;43mlist\u001b[39;49m\u001b[43m(\u001b[49m\u001b[43m[\u001b[49m\u001b[32;43m1\u001b[39;49m\u001b[43m,\u001b[49m\u001b[43m \u001b[49m\u001b[32;43m2\u001b[39;49m\u001b[43m]\u001b[49m\u001b[43m)\u001b[49m, \u001b[38;5;28mlist\u001b[39m([\u001b[32m3\u001b[39m, \u001b[32m4\u001b[39m])]),\n\u001b[32m      5\u001b[39m         \u001b[38;5;28mlist\u001b[39m([\u001b[38;5;28mlist\u001b[39m([\u001b[32m5\u001b[39m, \u001b[32m6\u001b[39m]), \u001b[38;5;28mlist\u001b[39m([\u001b[32m7\u001b[39m, \u001b[32m8\u001b[39m])])\n\u001b[32m      6\u001b[39m     ]),\n\u001b[32m      7\u001b[39m     \u001b[38;5;28mlist\u001b[39m([\n\u001b[32m      8\u001b[39m         \u001b[38;5;28mlist\u001b[39m([\u001b[38;5;28mlist\u001b[39m([\u001b[32m9\u001b[39m, \u001b[32m10\u001b[39m]), \u001b[38;5;28mlist\u001b[39m([\u001b[32m11\u001b[39m, \u001b[32m12\u001b[39m])]),\n\u001b[32m      9\u001b[39m         \u001b[38;5;28mlist\u001b[39m([\u001b[38;5;28mlist\u001b[39m([\u001b[32m13\u001b[39m, \u001b[32m14\u001b[39m]), \u001b[38;5;28mlist\u001b[39m([\u001b[32m15\u001b[39m, \u001b[32m16\u001b[39m])])\n\u001b[32m     10\u001b[39m     ])\n\u001b[32m     11\u001b[39m ])\n\u001b[32m     13\u001b[39m \u001b[38;5;28mprint\u001b[39m(a)\n",
      "\u001b[31mTypeError\u001b[39m: 'list' object is not callable"
     ]
    }
   ],
   "source": [
    "# Question 27: Create a 4D list: [[[[1, 2], [3, 4]], [[5, 6], [7, 8]]], [[[9, 10], [11, 12]], [[13, 14], [15, 16]]]]\n",
    "a = list([\n",
    "    list([\n",
    "        list([list([1, 2]), list([3, 4])]),\n",
    "        list([list([5, 6]), list([7, 8])])\n",
    "    ]),\n",
    "    list([\n",
    "        list([list([9, 10]), list([11, 12])]),\n",
    "        list([list([13, 14]), list([15, 16])])\n",
    "    ])\n",
    "])\n",
    "\n",
    "print(a)"
   ]
  },
  {
   "cell_type": "code",
   "execution_count": 32,
   "id": "398bd935",
   "metadata": {},
   "outputs": [
    {
     "name": "stdout",
     "output_type": "stream",
     "text": [
      "[{1, 2, 3}, {4, 5, 6}, {8, 9, 7}]\n"
     ]
    }
   ],
   "source": [
    "# Question 29: Create a list of sets: [{1, 2, 3}, {4, 5, 6}, {7, 8, 9}]\n",
    "a = ([\n",
    "    set([1, 2, 3]),\n",
    "    set([4, 5, 6]),\n",
    "    set([7, 8, 9])\n",
    "])\n",
    "\n",
    "print(a)"
   ]
  },
  {
   "cell_type": "code",
   "execution_count": 33,
   "id": "7415abe5",
   "metadata": {},
   "outputs": [
    {
     "name": "stdout",
     "output_type": "stream",
     "text": [
      "{1, 2, 3, 4, 5, 6, 7, 8, 9}\n"
     ]
    }
   ],
   "source": [
    "# Question 30: Find the union of all sets in list of sets\n",
    "result = set()          \n",
    "for s in a:\n",
    "    result = result.union(s)\n",
    "\n",
    "print(result)"
   ]
  },
  {
   "cell_type": "code",
   "execution_count": 34,
   "id": "2d58bbf4",
   "metadata": {},
   "outputs": [
    {
     "name": "stdout",
     "output_type": "stream",
     "text": [
      "[(1+2j), (3+4j), (5+6j)]\n"
     ]
    }
   ],
   "source": [
    "# Question 31: Create a list of complex numbers: [1+2j, 3+4j, 5+6j]\n",
    "a = [1+2j, 3+4j, 5+6j]\n",
    "print(a)"
   ]
  },
  {
   "cell_type": "code",
   "execution_count": 35,
   "id": "58d38e3c",
   "metadata": {},
   "outputs": [
    {
     "name": "stdout",
     "output_type": "stream",
     "text": [
      "[2.23606797749979, 5.0, 7.810249675906654]\n"
     ]
    }
   ],
   "source": [
    "# Question 32: Find the magnitude of each complex number in list\n",
    "nums = [1+2j, 3+4j, 5+6j]\n",
    "\n",
    "magnitudes = [abs(z) for z in nums]\n",
    "\n",
    "print(magnitudes)"
   ]
  },
  {
   "cell_type": "code",
   "execution_count": 36,
   "id": "d865d69d",
   "metadata": {},
   "outputs": [
    {
     "name": "stdout",
     "output_type": "stream",
     "text": [
      "[1, [2, 3], [4, [5, 6]], 7]\n"
     ]
    }
   ],
   "source": [
    "# Question 33: Create a nested list with different levels: [1, [2, 3], [4, [5, 6]], 7]\n",
    "nested_list = [1, [2, 3], [4, [5, 6]], 7]\n",
    "print(nested_list)"
   ]
  },
  {
   "cell_type": "code",
   "execution_count": 37,
   "id": "3f493dbb",
   "metadata": {},
   "outputs": [
    {
     "name": "stdout",
     "output_type": "stream",
     "text": [
      "[<built-in function len>, <class 'str'>, <class 'int'>, <class 'float'>]\n"
     ]
    }
   ],
   "source": [
    "#Question 35: Create a list of functions: [len, str, int, float]\n",
    "list=[len,str,int,float]\n",
    "print(list)"
   ]
  },
  {
   "cell_type": "code",
   "execution_count": 38,
   "id": "61256886",
   "metadata": {},
   "outputs": [
    {
     "name": "stdout",
     "output_type": "stream",
     "text": [
      "[3, '123', 123, 123.0]\n"
     ]
    }
   ],
   "source": [
    "# Question 36: Apply each function in list to string \"123\"\n",
    "func = [len, str, int, float]\n",
    "s = \"123\"\n",
    "\n",
    "result = [f(s) for f in func]\n",
    "print(result)"
   ]
  },
  {
   "cell_type": "code",
   "execution_count": 39,
   "id": "44bd833d",
   "metadata": {},
   "outputs": [
    {
     "name": "stdout",
     "output_type": "stream",
     "text": [
      "[<function <lambda> at 0x000002E4667C1BC0>, <function <lambda> at 0x000002E4667C13A0>, <function <lambda> at 0x000002E4667C1580>]\n"
     ]
    }
   ],
   "source": [
    "# Question 37: Create a list of lambda functions: [lambda x: x*2, lambda x: x**2, lambda x: x+1]\n",
    "funcs =  [lambda x: x * 2,\n",
    "    lambda x: x ** 2,\n",
    "    lambda x: x + 1]\n",
    "print(funcs)"
   ]
  },
  {
   "cell_type": "code",
   "execution_count": 40,
   "id": "2acbec8e",
   "metadata": {},
   "outputs": [
    {
     "name": "stdout",
     "output_type": "stream",
     "text": [
      "[10, 25, 6]\n"
     ]
    }
   ],
   "source": [
    "# Question 38: Apply each lambda function to 5\n",
    "result = [f(5) for f in funcs]    #x=5\n",
    "print(result)"
   ]
  },
  {
   "cell_type": "code",
   "execution_count": 41,
   "id": "ddc35d8b",
   "metadata": {},
   "outputs": [
    {
     "name": "stdout",
     "output_type": "stream",
     "text": [
      "[[<built-in function len>, <class 'str'>, <class 'int'>, <class 'float'>], <class 'dict'>, <class 'set'>, <class 'tuple'>]\n"
     ]
    }
   ],
   "source": [
    "\n",
    "# Question 39: Create a list of classes: [list, dict, set, tuple]\n",
    "classes=[list,dict,set,tuple]\n",
    "print(classes)"
   ]
  },
  {
   "cell_type": "code",
   "execution_count": 42,
   "id": "57f71b54",
   "metadata": {},
   "outputs": [
    {
     "ename": "TypeError",
     "evalue": "'list' object is not callable",
     "output_type": "error",
     "traceback": [
      "\u001b[31m---------------------------------------------------------------------------\u001b[39m",
      "\u001b[31mTypeError\u001b[39m                                 Traceback (most recent call last)",
      "\u001b[36mCell\u001b[39m\u001b[36m \u001b[39m\u001b[32mIn[42]\u001b[39m\u001b[32m, line 3\u001b[39m\n\u001b[32m      1\u001b[39m \u001b[38;5;66;03m# Question 40: Create instances of each class in list\u001b[39;00m\n\u001b[32m      2\u001b[39m word=[\u001b[38;5;28mlist\u001b[39m,\u001b[38;5;28mset\u001b[39m,\u001b[38;5;28mdict\u001b[39m,\u001b[38;5;28mtuple\u001b[39m]\n\u001b[32m----> \u001b[39m\u001b[32m3\u001b[39m inst=[\u001b[38;5;28;43mcls\u001b[39;49m\u001b[43m(\u001b[49m\u001b[43m)\u001b[49m\u001b[38;5;28;01mfor\u001b[39;00m \u001b[38;5;28mcls\u001b[39m \u001b[38;5;129;01min\u001b[39;00m word]\n\u001b[32m      4\u001b[39m \u001b[38;5;28mprint\u001b[39m(inst)\n",
      "\u001b[31mTypeError\u001b[39m: 'list' object is not callable"
     ]
    }
   ],
   "source": [
    "# Question 40: Create instances of each class in list\n",
    "word=[list,set,dict,tuple]\n",
    "inst=[cls()for cls in word]\n",
    "print(inst)"
   ]
  },
  {
   "cell_type": "code",
   "execution_count": 43,
   "id": "c54cec9d",
   "metadata": {},
   "outputs": [
    {
     "name": "stdout",
     "output_type": "stream",
     "text": [
      "[None, None, None, None]\n"
     ]
    }
   ],
   "source": [
    "# Question 41: Create a list of None values: [None, None, None, None]\n",
    "none_list = [None] * 4\n",
    "print(none_list)"
   ]
  },
  {
   "cell_type": "code",
   "execution_count": 44,
   "id": "2546a93e",
   "metadata": {},
   "outputs": [
    {
     "name": "stdout",
     "output_type": "stream",
     "text": [
      "[0, 0, 0, 0]\n"
     ]
    }
   ],
   "source": [
    "# Question 42: Replace all None values with 0 in list\n",
    "none_list=[None,None,None,None]\n",
    "res = [0 if x is None else x for x in none_list]\n",
    "print(res)"
   ]
  },
  {
   "cell_type": "code",
   "execution_count": 45,
   "id": "5274d60e",
   "metadata": {},
   "outputs": [
    {
     "name": "stdout",
     "output_type": "stream",
     "text": [
      "[True, False, True, False]\n"
     ]
    }
   ],
   "source": [
    "# Question 43: Create a list of boolean values: [True, False, True, False]\n",
    "val=[True, False, True, False]\n",
    "print(val)"
   ]
  },
  {
   "cell_type": "code",
   "execution_count": 46,
   "id": "08132484",
   "metadata": {},
   "outputs": [
    {
     "name": "stdout",
     "output_type": "stream",
     "text": [
      "2\n"
     ]
    }
   ],
   "source": [
    "# Question 44: Count True values in boolean list\n",
    "val=[True, False, True, False]\n",
    "count_true = sum(val)\n",
    "print(count_true)"
   ]
  },
  {
   "cell_type": "code",
   "execution_count": 47,
   "id": "8889c273",
   "metadata": {},
   "outputs": [
    {
     "name": "stdout",
     "output_type": "stream",
     "text": [
      "[range(0, 3), range(0, 5), range(0, 2)]\n"
     ]
    }
   ],
   "source": [
    "# Question 45: Create a list of ranges: [range(3), range(5), range(2)]\n",
    "res=[range(3),range(5),range(2)]\n",
    "print(res)"
   ]
  },
  {
   "cell_type": "code",
   "execution_count": 48,
   "id": "ceca2c59",
   "metadata": {},
   "outputs": [
    {
     "ename": "TypeError",
     "evalue": "'list' object is not callable",
     "output_type": "error",
     "traceback": [
      "\u001b[31m---------------------------------------------------------------------------\u001b[39m",
      "\u001b[31mTypeError\u001b[39m                                 Traceback (most recent call last)",
      "\u001b[36mCell\u001b[39m\u001b[36m \u001b[39m\u001b[32mIn[48]\u001b[39m\u001b[32m, line 3\u001b[39m\n\u001b[32m      1\u001b[39m \u001b[38;5;66;03m# Question 46: Convert each range to list\u001b[39;00m\n\u001b[32m      2\u001b[39m res=[\u001b[38;5;28mrange\u001b[39m(\u001b[32m3\u001b[39m),\u001b[38;5;28mrange\u001b[39m(\u001b[32m5\u001b[39m),\u001b[38;5;28mrange\u001b[39m(\u001b[32m2\u001b[39m)]\n\u001b[32m----> \u001b[39m\u001b[32m3\u001b[39m lists = [\u001b[38;5;28;43mlist\u001b[39;49m\u001b[43m(\u001b[49m\u001b[43mr\u001b[49m\u001b[43m)\u001b[49m \u001b[38;5;28;01mfor\u001b[39;00m r \u001b[38;5;129;01min\u001b[39;00m res]\n\u001b[32m      4\u001b[39m \u001b[38;5;28mprint\u001b[39m(lists)\n",
      "\u001b[31mTypeError\u001b[39m: 'list' object is not callable"
     ]
    }
   ],
   "source": [
    "# Question 46: Convert each range to list\n",
    "res=[range(3),range(5),range(2)]\n",
    "lists = [list(r) for r in res]\n",
    "print(lists)"
   ]
  },
  {
   "cell_type": "code",
   "execution_count": 49,
   "id": "d64290b3",
   "metadata": {},
   "outputs": [
    {
     "name": "stdout",
     "output_type": "stream",
     "text": [
      "[<list_iterator object at 0x000002E465F8B7C0>, <list_iterator object at 0x000002E465D701C0>]\n"
     ]
    }
   ],
   "source": [
    "# Question 49: Create a list of iterators: [iter([1, 2, 3]), iter([4, 5, 6])]\n",
    "iters = [iter([1, 2, 3]), iter([4, 5, 6])]\n",
    "print(iters)"
   ]
  },
  {
   "cell_type": "code",
   "execution_count": 50,
   "id": "a254b75f",
   "metadata": {},
   "outputs": [
    {
     "ename": "TypeError",
     "evalue": "'list' object is not callable",
     "output_type": "error",
     "traceback": [
      "\u001b[31m---------------------------------------------------------------------------\u001b[39m",
      "\u001b[31mTypeError\u001b[39m                                 Traceback (most recent call last)",
      "\u001b[36mCell\u001b[39m\u001b[36m \u001b[39m\u001b[32mIn[50]\u001b[39m\u001b[32m, line 4\u001b[39m\n\u001b[32m      1\u001b[39m \u001b[38;5;66;03m# Question 50: Extract all elements from each iterator\u001b[39;00m\n\u001b[32m      2\u001b[39m iters = [\u001b[38;5;28miter\u001b[39m([\u001b[32m1\u001b[39m, \u001b[32m2\u001b[39m, \u001b[32m3\u001b[39m]), \u001b[38;5;28miter\u001b[39m([\u001b[32m4\u001b[39m, \u001b[32m5\u001b[39m, \u001b[32m6\u001b[39m])]\n\u001b[32m----> \u001b[39m\u001b[32m4\u001b[39m result = [\u001b[38;5;28;43mlist\u001b[39;49m\u001b[43m(\u001b[49m\u001b[43mit\u001b[49m\u001b[43m)\u001b[49m \u001b[38;5;28;01mfor\u001b[39;00m it \u001b[38;5;129;01min\u001b[39;00m iters]\n\u001b[32m      5\u001b[39m \u001b[38;5;28mprint\u001b[39m(result)\n",
      "\u001b[31mTypeError\u001b[39m: 'list' object is not callable"
     ]
    }
   ],
   "source": [
    "# Question 50: Extract all elements from each iterator\n",
    "iters = [iter([1, 2, 3]), iter([4, 5, 6])]\n",
    "\n",
    "result = [list(it) for it in iters]\n",
    "print(result)"
   ]
  },
  {
   "cell_type": "code",
   "execution_count": null,
   "id": "a4e3a829",
   "metadata": {},
   "outputs": [],
   "source": []
  }
 ],
 "metadata": {
  "kernelspec": {
   "display_name": "Python 3",
   "language": "python",
   "name": "python3"
  },
  "language_info": {
   "codemirror_mode": {
    "name": "ipython",
    "version": 3
   },
   "file_extension": ".py",
   "mimetype": "text/x-python",
   "name": "python",
   "nbconvert_exporter": "python",
   "pygments_lexer": "ipython3",
   "version": "3.13.5"
  }
 },
 "nbformat": 4,
 "nbformat_minor": 5
}
