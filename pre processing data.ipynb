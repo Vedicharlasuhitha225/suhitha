{
 "cells": [
  {
   "cell_type": "code",
   "execution_count": null,
   "id": "65975560",
   "metadata": {},
   "outputs": [
    {
     "name": "stdout",
     "output_type": "stream",
     "text": [
      "   DAYS_BIRTH  AGE_YEARS\n",
      "0       -9461         25\n",
      "1      -16765         45\n",
      "2      -19046         52\n",
      "3      -19005         52\n",
      "4      -19932         54\n"
     ]
    }
   ],
   "source": [
    "import pandas as pd\n",
    "\n",
    "def load_data(filepath):\n",
    "    return pd.read_csv(filepath)\n",
    "\n",
    "def preprocessing(df):\n",
    "    df['AGE_YEARS'] = (df['DAYS_BIRTH'] / -365.25).astype(int)\n",
    "    return df\n",
    "\n",
    "# Run the functions\n",
    "df = load_data(\"application_train.csv\")   # make sure this CSV is in the same folder\n",
    "df = preprocessing(df)\n",
    "\n",
    "# Show first 5 rows\n",
    "print(df[['DAYS_BIRTH', 'AGE_YEARS']].head())"
   ]
  },
  {
   "cell_type": "code",
   "execution_count": 6,
   "id": "c7f74f31",
   "metadata": {},
   "outputs": [
    {
     "name": "stdout",
     "output_type": "stream",
     "text": [
      "   DAYS_EMPLOYED  EMPLOYMENT_YEARS\n",
      "0           -637          1.744011\n",
      "1          -1188          3.252567\n",
      "2           -225          0.616016\n",
      "3          -3039          8.320329\n",
      "4          -3038          8.317591\n"
     ]
    }
   ],
   "source": [
    "# Convert days employed into years of employment\n",
    "df['EMPLOYMENT_YEARS'] = (-df['DAYS_EMPLOYED'] / 365.25).clip(lower=0)\n",
    "\n",
    "print(df[['DAYS_EMPLOYED', 'EMPLOYMENT_YEARS']].head())"
   ]
  },
  {
   "cell_type": "code",
   "execution_count": 2,
   "id": "d5b8cfca",
   "metadata": {},
   "outputs": [
    {
     "name": "stdout",
     "output_type": "stream",
     "text": [
      "        DTI  LOAN_TO_INCOME  ANNUITY_TO_CREDIT\n",
      "0  0.050000        2.000000           0.025000\n",
      "1  0.083333        2.083333           0.040000\n",
      "2  0.166667        2.000000           0.083333\n"
     ]
    }
   ],
   "source": [
    "import pandas as pd\n",
    "data = {\n",
    "    'AMT_ANNUITY': [5000, 10000, 15000],\n",
    "    'AMT_INCOME_TOTAL': [100000, 120000, 90000],\n",
    "    'AMT_CREDIT': [200000, 250000, 180000]\n",
    "}\n",
    "\n",
    "df = pd.DataFrame(data)\n",
    "\n",
    "# Create ratios\n",
    "df['DTI'] = df['AMT_ANNUITY'] / df['AMT_INCOME_TOTAL']\n",
    "df['LOAN_TO_INCOME'] = df['AMT_CREDIT'] / df['AMT_INCOME_TOTAL']\n",
    "df['ANNUITY_TO_CREDIT'] = df['AMT_ANNUITY'] / df['AMT_CREDIT']\n",
    "\n",
    "# Show the result\n",
    "print(df[['DTI', 'LOAN_TO_INCOME', 'ANNUITY_TO_CREDIT']])"
   ]
  },
  {
   "cell_type": "code",
   "execution_count": 3,
   "id": "375d61a6",
   "metadata": {},
   "outputs": [
    {
     "name": "stdout",
     "output_type": "stream",
     "text": [
      " Missing Value Percentage by Column:\n",
      "\n",
      "AMT_ANNUITY          0.0\n",
      "AMT_INCOME_TOTAL     0.0\n",
      "AMT_CREDIT           0.0\n",
      "DTI                  0.0\n",
      "LOAN_TO_INCOME       0.0\n",
      "ANNUITY_TO_CREDIT    0.0\n",
      "dtype: float64\n",
      "\n",
      " Dropped columns with >60% missing values: []\n",
      "\n",
      " Missing values handled successfully.\n"
     ]
    }
   ],
   "source": [
    "import pandas as pd\n",
    "missing_percent = df.isnull().mean() * 100\n",
    "print(\" Missing Value Percentage by Column:\\n\")\n",
    "print(missing_percent.sort_values(ascending=False))\n",
    "cols_to_drop = missing_percent[missing_percent > 60].index\n",
    "df.drop(columns=cols_to_drop, inplace=True)\n",
    "print(f\"\\n Dropped columns with >60% missing values: {list(cols_to_drop)}\")\n",
    "for col in df.columns:\n",
    "    if df[col].isnull().any():\n",
    "        if df[col].dtype == 'object':\n",
    "            most_freq = df[col].mode()[0]\n",
    "            df[col].fillna(most_freq, inplace=True)\n",
    "        else:\n",
    "            median_val = df[col].median()\n",
    "            df[col].fillna(median_val, inplace=True)\n",
    "\n",
    "print(\"\\n Missing values handled successfully.\")"
   ]
  },
  {
   "cell_type": "code",
   "execution_count": 5,
   "id": "35af68c0",
   "metadata": {},
   "outputs": [
    {
     "name": "stdout",
     "output_type": "stream",
     "text": [
      " Rare categories merged under 'Other':\n",
      "\n",
      "     City Product\n",
      "0   Delhi       A\n",
      "1  Mumbai       B\n",
      "2   Other   Other\n",
      "3   Delhi       A\n",
      "4   Other   Other\n",
      "5   Other   Other\n",
      "6  Mumbai       B\n",
      "7    Agra       F\n",
      "8    Agra       F\n",
      "9    Agra   Other\n"
     ]
    }
   ],
   "source": [
    "import pandas as pd\n",
    "data = {\n",
    "    'City': ['Delhi', 'Mumbai', 'Chennai', 'Delhi', 'Kolkata', 'Bhopal', 'Mumbai', 'Agra', 'Agra', 'Agra'],\n",
    "    'Product': ['A', 'B', 'C', 'A', 'D', 'E', 'B', 'F', 'F', 'G']\n",
    "}\n",
    "\n",
    "df = pd.DataFrame(data)\n",
    "\n",
    "\n",
    "def merge_rare_categories(df, column, threshold=0.2):\n",
    "    freq = df[column].value_counts(normalize=True)\n",
    "    rare = freq[freq < threshold].index\n",
    "    df[column] = df[column].apply(lambda x: 'Other' if x in rare else x)\n",
    "    return df\n",
    "\n",
    "categorical_cols = df.select_dtypes(include='object').columns\n",
    "\n",
    "for col in categorical_cols:\n",
    "    df = merge_rare_categories(df, col, threshold=0.2)\n",
    "\n",
    "print(\" Rare categories merged under 'Other':\\n\")\n",
    "print(df)\n",
    "\n"
   ]
  },
  {
   "cell_type": "code",
   "execution_count": 10,
   "id": "e4bc69e9",
   "metadata": {},
   "outputs": [
    {
     "name": "stdout",
     "output_type": "stream",
     "text": [
      "Collecting scipy\n",
      "  Downloading scipy-1.16.1-cp313-cp313-win_amd64.whl.metadata (60 kB)\n",
      "Requirement already satisfied: numpy<2.6,>=1.25.2 in c:\\users\\admin\\appdata\\local\\programs\\python\\python313\\lib\\site-packages (from scipy) (2.3.2)\n",
      "Downloading scipy-1.16.1-cp313-cp313-win_amd64.whl (38.5 MB)\n",
      "   ---------------------------------------- 0.0/38.5 MB ? eta -:--:--\n",
      "   - -------------------------------------- 1.6/38.5 MB 8.0 MB/s eta 0:00:05\n",
      "   --- ------------------------------------ 3.1/38.5 MB 8.2 MB/s eta 0:00:05\n",
      "   ---- ----------------------------------- 4.5/38.5 MB 7.6 MB/s eta 0:00:05\n",
      "   ---- ----------------------------------- 4.5/38.5 MB 7.6 MB/s eta 0:00:05\n",
      "   ---- ----------------------------------- 4.5/38.5 MB 7.6 MB/s eta 0:00:05\n",
      "   ---- ----------------------------------- 4.5/38.5 MB 7.6 MB/s eta 0:00:05\n",
      "   ----- ---------------------------------- 5.2/38.5 MB 3.5 MB/s eta 0:00:10\n",
      "   ------- -------------------------------- 6.8/38.5 MB 4.0 MB/s eta 0:00:08\n",
      "   -------- ------------------------------- 7.9/38.5 MB 4.2 MB/s eta 0:00:08\n",
      "   -------- ------------------------------- 8.4/38.5 MB 3.9 MB/s eta 0:00:08\n",
      "   --------- ------------------------------ 9.2/38.5 MB 4.0 MB/s eta 0:00:08\n",
      "   ---------- ----------------------------- 9.7/38.5 MB 3.8 MB/s eta 0:00:08\n",
      "   ---------- ----------------------------- 10.2/38.5 MB 3.8 MB/s eta 0:00:08\n",
      "   ---------- ----------------------------- 10.2/38.5 MB 3.8 MB/s eta 0:00:08\n",
      "   ---------- ----------------------------- 10.5/38.5 MB 3.3 MB/s eta 0:00:09\n",
      "   ---------- ----------------------------- 10.5/38.5 MB 3.3 MB/s eta 0:00:09\n",
      "   ----------- ---------------------------- 11.5/38.5 MB 3.2 MB/s eta 0:00:09\n",
      "   ------------ --------------------------- 12.3/38.5 MB 3.2 MB/s eta 0:00:09\n",
      "   ------------- -------------------------- 13.1/38.5 MB 3.2 MB/s eta 0:00:08\n",
      "   -------------- ------------------------- 14.4/38.5 MB 3.4 MB/s eta 0:00:08\n",
      "   ---------------- ----------------------- 15.7/38.5 MB 3.5 MB/s eta 0:00:07\n",
      "   ----------------- ---------------------- 17.0/38.5 MB 3.6 MB/s eta 0:00:06\n",
      "   ------------------ --------------------- 18.1/38.5 MB 3.7 MB/s eta 0:00:06\n",
      "   ------------------- -------------------- 19.1/38.5 MB 3.7 MB/s eta 0:00:06\n",
      "   --------------------- ------------------ 20.4/38.5 MB 3.8 MB/s eta 0:00:05\n",
      "   ---------------------- ----------------- 21.5/38.5 MB 3.9 MB/s eta 0:00:05\n",
      "   ----------------------- ---------------- 23.1/38.5 MB 4.0 MB/s eta 0:00:04\n",
      "   ------------------------- -------------- 24.4/38.5 MB 4.1 MB/s eta 0:00:04\n",
      "   -------------------------- ------------- 25.4/38.5 MB 4.1 MB/s eta 0:00:04\n",
      "   --------------------------- ------------ 26.5/38.5 MB 4.2 MB/s eta 0:00:03\n",
      "   ---------------------------- ----------- 27.5/38.5 MB 4.2 MB/s eta 0:00:03\n",
      "   ----------------------------- ---------- 28.8/38.5 MB 4.2 MB/s eta 0:00:03\n",
      "   ------------------------------- -------- 30.1/38.5 MB 4.3 MB/s eta 0:00:02\n",
      "   -------------------------------- ------- 31.5/38.5 MB 4.4 MB/s eta 0:00:02\n",
      "   ---------------------------------- ----- 33.0/38.5 MB 4.4 MB/s eta 0:00:02\n",
      "   ------------------------------------ --- 34.9/38.5 MB 4.6 MB/s eta 0:00:01\n",
      "   ------------------------------------- -- 36.2/38.5 MB 4.6 MB/s eta 0:00:01\n",
      "   ---------------------------------------  37.7/38.5 MB 4.7 MB/s eta 0:00:01\n",
      "   ---------------------------------------  38.3/38.5 MB 4.7 MB/s eta 0:00:01\n",
      "   ---------------------------------------- 38.5/38.5 MB 4.6 MB/s eta 0:00:00\n",
      "Installing collected packages: scipy\n",
      "Successfully installed scipy-1.16.1\n",
      "Note: you may need to restart the kernel to use updated packages.\n"
     ]
    },
    {
     "name": "stderr",
     "output_type": "stream",
     "text": [
      "\n",
      "[notice] A new release of pip is available: 25.1.1 -> 25.2\n",
      "[notice] To update, run: python.exe -m pip install --upgrade pip\n"
     ]
    }
   ],
   "source": [
    "pip install scipy\n"
   ]
  },
  {
   "cell_type": "code",
   "execution_count": 13,
   "id": "c45b4eeb",
   "metadata": {},
   "outputs": [
    {
     "name": "stdout",
     "output_type": "stream",
     "text": [
      "    Sales  Profit\n",
      "0     100    10.0\n",
      "1     120    12.0\n",
      "2     130    13.0\n",
      "3     150    15.0\n",
      "4  100000  1000.0\n",
      "5     110    11.0\n",
      "6     115    11.5\n",
      "7      90     9.0\n",
      "8      85     8.5\n",
      "9     105    10.5\n"
     ]
    }
   ],
   "source": [
    "import pandas as pd\n",
    "from scipy.stats.mstats import winsorize\n",
    "df = pd.DataFrame({\n",
    "    'Sales': [100, 120, 130, 150, 100000, 110, 115, 90, 85, 105],\n",
    "    'Profit': [10, 12, 13, 15, 1000, 11, 11.5, 9, 8.5, 10.5]\n",
    "})\n",
    "for col in df.select_dtypes(include='number').columns:\n",
    "    df[col] = winsorize(df[col], limits=[0.01, 0.01])  \n",
    "\n",
    "print(df)"
   ]
  },
  {
   "cell_type": "code",
   "execution_count": 14,
   "id": "4f07b8f9",
   "metadata": {},
   "outputs": [
    {
     "name": "stdout",
     "output_type": "stream",
     "text": [
      "   Income Income_Bracket\n",
      "0   25000            Low\n",
      "1   30000            Low\n",
      "2   40000            Low\n",
      "3   50000            Mid\n",
      "4   60000            Mid\n",
      "5   70000            Mid\n",
      "6   80000            Mid\n",
      "7   90000           High\n",
      "8  100000           High\n",
      "9  150000           High\n"
     ]
    }
   ],
   "source": [
    "import pandas as pd\n",
    "df = pd.DataFrame({\n",
    "    'Income': [25000, 30000, 40000, 50000, 60000, 70000, 80000, 90000, 100000, 150000]\n",
    "})\n",
    "q1 = df['Income'].quantile(0.25)\n",
    "q3 = df['Income'].quantile(0.75)\n",
    "def income_bracket(income):\n",
    "    if income <= q1:\n",
    "        return 'Low'\n",
    "    elif income <= q3:\n",
    "        return 'Mid'\n",
    "    else:\n",
    "        return 'High'\n",
    "df['Income_Bracket'] = df['Income'].apply(income_bracket)\n",
    "\n",
    "print(df)"
   ]
  },
  {
   "cell_type": "code",
   "execution_count": 35,
   "id": "e2db8038",
   "metadata": {},
   "outputs": [
    {
     "name": "stdout",
     "output_type": "stream",
     "text": [
      " Cleaned and segmented dataset:\n",
      "\n",
      "   Gender    Education Family_Status   Housing  Income  Age Income_Bracket  \\\n",
      "0    Male  High School        Single     Owned   25000   22            Low   \n",
      "1  Female     Bachelor       Married    Rented   40000   29            Mid   \n",
      "2    Male       Master      Divorced  Mortgage   60000   37            Mid   \n",
      "3  Female    Doctorate       Widowed     Other   85000   45           High   \n",
      "4  Female  High School        Single     Owned  120000   63           High   \n",
      "5    Male     Bachelor       Married    Rented   30000   70            Low   \n",
      "\n",
      "  Age_Range  \n",
      "0       <25  \n",
      "1     25–34  \n",
      "2     35–49  \n",
      "3     35–49  \n",
      "4     50–64  \n",
      "5       65+  \n"
     ]
    }
   ],
   "source": [
    "import pandas as pd\n",
    "\n",
    "\n",
    "df = pd.DataFrame({\n",
    "    'Gender': ['M', 'F', 'Male', 'female', 'F', 'M'],\n",
    "    'Education': ['HS', 'Bachelor', 'Masters', 'PhD', 'High School', 'Bachelors'],\n",
    "    'Family_Status': ['Single', 'Married', 'Divorced', 'Widowed', 'Single', 'Married'],\n",
    "    'Housing': ['Owned', 'Rented', 'Mortgage', 'Other', 'Owned', 'Rented'],\n",
    "    'Income': [25000, 40000, 60000, 85000, 120000, 30000],\n",
    "    'Age': [22, 29, 37, 45, 63, 70]\n",
    "})\n",
    "\n",
    "\n",
    "df['Gender'] = df['Gender'].str.strip().str.capitalize()\n",
    "df['Gender'] = df['Gender'].replace({'M': 'Male', 'F': 'Female'})\n",
    "\n",
    "\n",
    "education_map = {\n",
    "    'High School': 'High School',\n",
    "    'HS': 'High School',\n",
    "    'Bachelor': 'Bachelor',\n",
    "    'Bachelors': 'Bachelor',\n",
    "    'Master': 'Master',\n",
    "    'Masters': 'Master',\n",
    "    'PhD': 'Doctorate',\n",
    "    'Doctorate': 'Doctorate'\n",
    "}\n",
    "df['Education'] = df['Education'].str.strip().map(education_map)\n",
    "\n",
    "\n",
    "family_map = {\n",
    "    'Single': 'Single',\n",
    "    'Married': 'Married',\n",
    "    'Divorced': 'Divorced',\n",
    "    'Widowed': 'Widowed'\n",
    "}\n",
    "df['Family_Status'] = df['Family_Status'].str.strip().map(family_map)\n",
    "\n",
    "\n",
    "housing_map = {\n",
    "    'Owned': 'Owned',\n",
    "    'Rented': 'Rented',\n",
    "    'Mortgage': 'Mortgage',\n",
    "    'Other': 'Other'\n",
    "}\n",
    "df['Housing'] = df['Housing'].str.strip().map(housing_map)\n",
    "\n",
    "\n",
    "q1 = df['Income'].quantile(0.25)\n",
    "q3 = df['Income'].quantile(0.75)\n",
    "\n",
    "def income_bracket(income):\n",
    "    if income <= q1:\n",
    "        return 'Low'\n",
    "    elif income <= q3:\n",
    "        return 'Mid'\n",
    "    else:\n",
    "        return 'High'\n",
    "\n",
    "df['Income_Bracket'] = df['Income'].apply(income_bracket)\n",
    "\n",
    "\n",
    "bins = [0, 25, 35, 50, 65, 100]\n",
    "labels = ['<25', '25–34', '35–49', '50–64', '65+']\n",
    "df['Age_Range'] = pd.cut(df['Age'], bins=bins, labels=labels, right=False)\n",
    "\n",
    "\n",
    "print(\" Cleaned and segmented dataset:\\n\")\n",
    "print(df)"
   ]
  },
  {
   "cell_type": "code",
   "execution_count": 36,
   "id": "de7b1cb9",
   "metadata": {},
   "outputs": [
    {
     "name": "stdout",
     "output_type": "stream",
     "text": [
      "Default Rate (%): 60.00\n"
     ]
    }
   ],
   "source": [
    "import pandas as pd\n",
    "\n",
    "df = pd.DataFrame({'TARGET': [0, 1, 0, 1, 1]})\n",
    "\n",
    "def calculate_default_rate(df, column='TARGET'):\n",
    "    if column in df.columns:\n",
    "        rate = df[column].mean() * 100\n",
    "        return f\"Default Rate (%): {rate:.2f}\"\n",
    "    else:\n",
    "        return f\"Default Rate (%): '{column}' column missing\"\n",
    "\n",
    "print(calculate_default_rate(df))"
   ]
  },
  {
   "cell_type": "code",
   "execution_count": 37,
   "id": "311c4746",
   "metadata": {},
   "outputs": [
    {
     "name": "stdout",
     "output_type": "stream",
     "text": [
      "Default Rate (%): 60.00\n",
      "Repaid Rate (%): 40.00\n"
     ]
    }
   ],
   "source": [
    "import pandas as pd\n",
    "\n",
    "df = pd.DataFrame({'TARGET': [0, 1, 0, 1, 1]})\n",
    "\n",
    "def calculate_rates(df, column='TARGET'):\n",
    "    if column in df.columns:\n",
    "        default_rate = df[column].mean() * 100\n",
    "        repaid_rate = (1 - df[column].mean()) * 100\n",
    "        return (\n",
    "            f\"Default Rate (%): {default_rate:.2f}\\n\"\n",
    "            f\"Repaid Rate (%): {repaid_rate:.2f}\"\n",
    "        )\n",
    "    else:\n",
    "        return f\"Rates: '{column}' column missing\"\n",
    "\n",
    "print(calculate_rates(df))"
   ]
  },
  {
   "cell_type": "code",
   "execution_count": 38,
   "id": "6f437122",
   "metadata": {},
   "outputs": [
    {
     "name": "stdout",
     "output_type": "stream",
     "text": [
      "Total Features: 1\n"
     ]
    }
   ],
   "source": [
    "total_features = df.shape[1]\n",
    "print(f\"Total Features: {total_features}\")"
   ]
  },
  {
   "cell_type": "code",
   "execution_count": 41,
   "id": "d94a727e",
   "metadata": {},
   "outputs": [
    {
     "name": "stdout",
     "output_type": "stream",
     "text": [
      "Avg Missing per Feature (%): 0.00\n"
     ]
    }
   ],
   "source": [
    "avg_missing_per_feature = df.isnull().mean().mean() * 100 \n",
    "print(f\"Avg Missing per Feature (%): {avg_missing_per_feature:.2f}\")"
   ]
  },
  {
   "cell_type": "code",
   "execution_count": 44,
   "id": "96c08ac1",
   "metadata": {},
   "outputs": [
    {
     "name": "stdout",
     "output_type": "stream",
     "text": [
      "Median Age (Years): 'AGE_YEARS' column missing\n"
     ]
    }
   ],
   "source": [
    "\n",
    "df.columns = df.columns.str.strip().str.upper()\n",
    "if 'AGE_YEARS' in df.columns:\n",
    "    median_age = df['AGE_YEARS'].median()\n",
    "    print(f\"Median Age (Years): {median_age:.2f}\")\n",
    "else:\n",
    "    print(\"Median Age (Years): 'AGE_YEARS' column missing\")"
   ]
  },
  {
   "cell_type": "code",
   "execution_count": 45,
   "id": "a82c73a1",
   "metadata": {},
   "outputs": [
    {
     "name": "stdout",
     "output_type": "stream",
     "text": [
      "Median Annual Income: income column missing\n"
     ]
    }
   ],
   "source": [
    "\n",
    "df.columns = df.columns.str.strip().str.upper()\n",
    "income_cols = [col for col in df.columns if 'INCOME' in col]\n",
    "\n",
    "if income_cols:\n",
    "    median_income = df[income_cols[0]].median()\n",
    "    print(f\"Median Annual Income: ₹{median_income:,.2f}\")\n",
    "else:\n",
    "    print(\"Median Annual Income: income column missing\")"
   ]
  },
  {
   "cell_type": "code",
   "execution_count": 47,
   "id": "469d4cb1",
   "metadata": {},
   "outputs": [
    {
     "name": "stdout",
     "output_type": "stream",
     "text": [
      "Average Credit Amount: credit column missing\n"
     ]
    }
   ],
   "source": [
    "\n",
    "df.columns = df.columns.str.strip().str.upper()\n",
    "credit_cols = [col for col in df.columns if 'CREDIT' in col or 'LOAN' in col]\n",
    "\n",
    "if credit_cols:\n",
    "    avg_credit = df[credit_cols[0]].mean()\n",
    "    print(f\"Average Credit Amount: ₹{avg_credit:,.2f}\")\n",
    "else:\n",
    "    print(\"Average Credit Amount: credit column missing\")"
   ]
  },
  {
   "cell_type": "code",
   "execution_count": 50,
   "id": "1f8e5f73",
   "metadata": {},
   "outputs": [
    {
     "name": "stdout",
     "output_type": "stream",
     "text": [
      "Total Defaults: 3\n"
     ]
    }
   ],
   "source": [
    "\n",
    "df.columns = df.columns.str.strip().str.upper()\n",
    "if 'TARGET' in df.columns:\n",
    "    total_defaults = df['TARGET'].sum()\n",
    "    print(f\"Total Defaults: {int(total_defaults)}\")\n",
    "else:\n",
    "    print(\"Total Defaults: 'TARGET' column missing\")"
   ]
  },
  {
   "cell_type": "code",
   "execution_count": 51,
   "id": "5ff1254b",
   "metadata": {},
   "outputs": [
    {
     "name": "stdout",
     "output_type": "stream",
     "text": [
      "Default Rate (%): 60.00\n"
     ]
    }
   ],
   "source": [
    "df.columns = df.columns.str.strip().str.upper()\n",
    "\n",
    "if 'TARGET' in df.columns:\n",
    "    default_rate = df['TARGET'].mean() * 100\n",
    "    print(f\"Default Rate (%): {default_rate:.2f}\")\n",
    "else:\n",
    "    print(\"Default Rate (%): 'TARGET' column missing\")"
   ]
  },
  {
   "cell_type": "code",
   "execution_count": null,
   "id": "13b8e878",
   "metadata": {},
   "outputs": [],
   "source": []
  },
  {
   "cell_type": "code",
   "execution_count": null,
   "id": "0cbf4e9b",
   "metadata": {},
   "outputs": [],
   "source": []
  },
  {
   "cell_type": "code",
   "execution_count": null,
   "id": "da5533e0",
   "metadata": {},
   "outputs": [],
   "source": []
  },
  {
   "cell_type": "code",
   "execution_count": null,
   "id": "83fbb02d",
   "metadata": {},
   "outputs": [],
   "source": []
  },
  {
   "cell_type": "code",
   "execution_count": null,
   "id": "d89ac040",
   "metadata": {},
   "outputs": [],
   "source": []
  },
  {
   "cell_type": "code",
   "execution_count": null,
   "id": "f8960296",
   "metadata": {},
   "outputs": [],
   "source": []
  },
  {
   "cell_type": "code",
   "execution_count": null,
   "id": "2a898933",
   "metadata": {},
   "outputs": [],
   "source": []
  },
  {
   "cell_type": "code",
   "execution_count": null,
   "id": "2fc9412d",
   "metadata": {},
   "outputs": [],
   "source": []
  },
  {
   "cell_type": "code",
   "execution_count": null,
   "id": "1a2aed1f",
   "metadata": {},
   "outputs": [],
   "source": []
  },
  {
   "cell_type": "code",
   "execution_count": null,
   "id": "3bf8c2c0",
   "metadata": {},
   "outputs": [],
   "source": []
  },
  {
   "cell_type": "code",
   "execution_count": null,
   "id": "51fdf861",
   "metadata": {},
   "outputs": [],
   "source": []
  },
  {
   "cell_type": "code",
   "execution_count": null,
   "id": "773a041b",
   "metadata": {},
   "outputs": [],
   "source": []
  }
 ],
 "metadata": {
  "kernelspec": {
   "display_name": "Python 3",
   "language": "python",
   "name": "python3"
  },
  "language_info": {
   "codemirror_mode": {
    "name": "ipython",
    "version": 3
   },
   "file_extension": ".py",
   "mimetype": "text/x-python",
   "name": "python",
   "nbconvert_exporter": "python",
   "pygments_lexer": "ipython3",
   "version": "3.13.5"
  }
 },
 "nbformat": 4,
 "nbformat_minor": 5
}
