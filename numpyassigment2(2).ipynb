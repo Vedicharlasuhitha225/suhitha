{
 "cells": [
  {
   "cell_type": "code",
   "execution_count": null,
   "id": "cc68339a",
   "metadata": {},
   "outputs": [],
   "source": [
    "#BANKING ASSIGNMENT - NUMPY\n"
   ]
  },
  {
   "cell_type": "code",
   "execution_count": 7,
   "id": "2f757dbb",
   "metadata": {},
   "outputs": [
    {
     "ename": "ModuleNotFoundError",
     "evalue": "No module named 'pandas'",
     "output_type": "error",
     "traceback": [
      "\u001b[31m---------------------------------------------------------------------------\u001b[39m",
      "\u001b[31mModuleNotFoundError\u001b[39m                       Traceback (most recent call last)",
      "\u001b[36mCell\u001b[39m\u001b[36m \u001b[39m\u001b[32mIn[7]\u001b[39m\u001b[32m, line 2\u001b[39m\n\u001b[32m      1\u001b[39m \u001b[38;5;28;01mimport\u001b[39;00m\u001b[38;5;250m \u001b[39m\u001b[34;01mnumpy\u001b[39;00m\u001b[38;5;250m \u001b[39m\u001b[38;5;28;01mas\u001b[39;00m\u001b[38;5;250m \u001b[39m\u001b[34;01mnp\u001b[39;00m\n\u001b[32m----> \u001b[39m\u001b[32m2\u001b[39m \u001b[38;5;28;01mimport\u001b[39;00m\u001b[38;5;250m \u001b[39m\u001b[34;01mpandas\u001b[39;00m\u001b[38;5;250m \u001b[39m\u001b[38;5;28;01mas\u001b[39;00m\u001b[38;5;250m \u001b[39m\u001b[34;01mpd\u001b[39;00m\n",
      "\u001b[31mModuleNotFoundError\u001b[39m: No module named 'pandas'"
     ]
    }
   ],
   "source": [
    "import numpy as np\n",
    "import pandas as pd"
   ]
  },
  {
   "cell_type": "code",
   "execution_count": 8,
   "id": "39b93a95",
   "metadata": {},
   "outputs": [],
   "source": [
    "bank_data = np.array([\n",
    "    [2001,  5230.75, 720, 15,  5],\n",
    "    [2002, 15890.50, 680, 22,  8],\n",
    "    [2003,  2500.10, 650,  8,  2],\n",
    "    [2004, 30250.00, 790, 30, 12],\n",
    "    [2005,  8750.60, 710, 12,  4],\n",
    "    [2006, 45000.90, 840, 40, 15],\n",
    "    [2007, 11000.25, 695, 18,  6],\n",
    "    [2008,  6700.00, 730, 10,  3],\n",
    "    [2009, 22000.80, 765, 25, 10],\n",
    "    [2010, 14500.40, 785, 28,  9]\n",
    "])"
   ]
  },
  {
   "cell_type": "code",
   "execution_count": 9,
   "id": "eb4f5b3d",
   "metadata": {},
   "outputs": [
    {
     "name": "stdout",
     "output_type": "stream",
     "text": [
      "[2001. 2002. 2003. 2004. 2005. 2006. 2007. 2008. 2009. 2010.]\n",
      "[ 5230.75 15890.5   2500.1  30250.    8750.6  45000.9  11000.25  6700.\n",
      " 22000.8  14500.4 ]\n",
      "[720. 680. 650. 790. 710. 840. 695. 730. 765. 785.]\n",
      "[15. 22.  8. 30. 12. 40. 18. 10. 25. 28.]\n",
      "[ 5.  8.  2. 12.  4. 15.  6.  3. 10.  9.]\n"
     ]
    }
   ],
   "source": [
    "Customer_id = bank_data [:,0]\n",
    "print(Customer_id)\n",
    "\n",
    "Account_balance=bank_data[:,1]\n",
    "print(Account_balance)\n",
    "\n",
    "creadit_score=bank_data[:,2]\n",
    "print(creadit_score)\n",
    "\n",
    "Transaction_count=bank_data[:,3]\n",
    "print(Transaction_count)\n",
    "\n",
    "Years_Active=bank_data[:,4]\n",
    "print(Years_Active)"
   ]
  },
  {
   "cell_type": "code",
   "execution_count": 11,
   "id": "fd0c6e1f",
   "metadata": {},
   "outputs": [
    {
     "ename": "SyntaxError",
     "evalue": "invalid syntax (3302465187.py, line 8)",
     "output_type": "error",
     "traceback": [
      "  \u001b[36mCell\u001b[39m\u001b[36m \u001b[39m\u001b[32mIn[11]\u001b[39m\u001b[32m, line 8\u001b[39m\n\u001b[31m    \u001b[39m\u001b[31mprint(tenth_row)first_row=bank_data[0]\u001b[39m\n                    ^\n\u001b[31mSyntaxError\u001b[39m\u001b[31m:\u001b[39m invalid syntax\n"
     ]
    }
   ],
   "source": [
    "eighth_row=bank_data[7]\n",
    "print(eighth_row)\n",
    "\n",
    "ninth_row=bank_data[8]\n",
    "print(ninth_row)\n",
    "\n",
    "tenth_row=bank_data[9]\n",
    "print(tenth_row)first_row=bank_data[0]\n",
    "print(first_row)\n",
    "\n",
    "second_row=bank_data[1]\n",
    "print(second_row)\n",
    "\n",
    "third_row=bank_data[2]\n",
    "print(third_row)\n",
    "\n",
    "fourth_row=bank_data[3]\n",
    "print(fourth_row)\n",
    "\n",
    "fifth_row=bank_data[4]\n",
    "print(fifth_row)\n",
    "\n",
    "sixth_row=bank_data[5]\n",
    "print(sixth_row)\n",
    "\n",
    "seventh_row=bank_data[6]\n",
    "print(seventh_row)"
   ]
  },
  {
   "cell_type": "code",
   "execution_count": null,
   "id": "4eb2ac02",
   "metadata": {},
   "outputs": [],
   "source": [
    "Question 1: Array Creation and Manipulation"
   ]
  },
  {
   "cell_type": "code",
   "execution_count": 12,
   "id": "534d5d2e",
   "metadata": {},
   "outputs": [
    {
     "name": "stdout",
     "output_type": "stream",
     "text": [
      "[[1. 0. 0. 0.]\n",
      " [0. 1. 0. 0.]\n",
      " [0. 0. 1. 0.]\n",
      " [0. 0. 0. 1.]]\n"
     ]
    }
   ],
   "source": [
    "#Create a 4x4 identity matrix using\n",
    "print(np.eye(4,4))"
   ]
  },
  {
   "cell_type": "code",
   "execution_count": 13,
   "id": "c178ff35",
   "metadata": {},
   "outputs": [
    {
     "name": "stdout",
     "output_type": "stream",
     "text": [
      "[0. 0. 0. 0. 0. 0. 0. 0.]\n"
     ]
    }
   ],
   "source": [
    "#Create an array of 8 zeros using\n",
    "print(np.zeros(8))"
   ]
  },
  {
   "cell_type": "code",
   "execution_count": 14,
   "id": "ce36788f",
   "metadata": {},
   "outputs": [
    {
     "name": "stdout",
     "output_type": "stream",
     "text": [
      "[1. 1. 1. 1. 1. 1.]\n"
     ]
    }
   ],
   "source": [
    "#Create an array of 6 ones using\n",
    "print(np.ones(6))"
   ]
  },
  {
   "cell_type": "code",
   "execution_count": 15,
   "id": "232d4754",
   "metadata": {},
   "outputs": [
    {
     "name": "stdout",
     "output_type": "stream",
     "text": [
      "[ 0  1  2  3  4  5  6  7  8  9 10 11 12 13 14]\n"
     ]
    }
   ],
   "source": [
    "#Create an array with values from 0 to 15 using\n",
    "print(np.arange(0,15))"
   ]
  },
  {
   "cell_type": "code",
   "execution_count": 16,
   "id": "eb0f67c6",
   "metadata": {},
   "outputs": [
    {
     "name": "stdout",
     "output_type": "stream",
     "text": [
      "[  0.          14.28571429  28.57142857  42.85714286  57.14285714\n",
      "  71.42857143  85.71428571 100.        ]\n"
     ]
    }
   ],
   "source": [
    "#Create an array with 8 evenly spaced values from 0 to 100 using\n",
    "print(np.linspace(0,100,8))"
   ]
  },
  {
   "cell_type": "code",
   "execution_count": null,
   "id": "fc0cac03",
   "metadata": {},
   "outputs": [],
   "source": [
    "Question 2: Array Attributes and Information"
   ]
  },
  {
   "cell_type": "code",
   "execution_count": 17,
   "id": "1c837d81",
   "metadata": {},
   "outputs": [
    {
     "name": "stdout",
     "output_type": "stream",
     "text": [
      "(10, 5)\n"
     ]
    }
   ],
   "source": [
    "#What is the shape of the banking_data array?\n",
    "print(bank_data.shape)"
   ]
  },
  {
   "cell_type": "code",
   "execution_count": 18,
   "id": "23220c92",
   "metadata": {},
   "outputs": [
    {
     "name": "stdout",
     "output_type": "stream",
     "text": [
      "float64\n"
     ]
    }
   ],
   "source": [
    "#What is the data type of the banking_data array?\n",
    "print(bank_data.dtype)"
   ]
  },
  {
   "cell_type": "code",
   "execution_count": 19,
   "id": "15463a2b",
   "metadata": {},
   "outputs": [
    {
     "name": "stdout",
     "output_type": "stream",
     "text": [
      "50\n"
     ]
    }
   ],
   "source": [
    "#What is the size (total number of elements) of the banking_data array?\n",
    "print(bank_data.size)"
   ]
  },
  {
   "cell_type": "code",
   "execution_count": 20,
   "id": "8363baf9",
   "metadata": {},
   "outputs": [
    {
     "name": "stdout",
     "output_type": "stream",
     "text": [
      "2\n"
     ]
    }
   ],
   "source": [
    "#What is the number of dimensions of the banking_data array?\n",
    "print(bank_data.ndim)"
   ]
  },
  {
   "cell_type": "code",
   "execution_count": 21,
   "id": "00622127",
   "metadata": {},
   "outputs": [
    {
     "name": "stdout",
     "output_type": "stream",
     "text": [
      "400\n"
     ]
    }
   ],
   "source": [
    "# What is the memory size of the banking_data array in bytes?\n",
    "print(bank_data.nbytes)"
   ]
  },
  {
   "cell_type": "code",
   "execution_count": null,
   "id": "f18afdec",
   "metadata": {},
   "outputs": [],
   "source": [
    "Question 3: Indexing and Slicing"
   ]
  },
  {
   "cell_type": "code",
   "execution_count": null,
   "id": "301e27c6",
   "metadata": {},
   "outputs": [
    {
     "name": "stdout",
     "output_type": "stream",
     "text": [
      "[2001 5230  720   15    5]\n"
     ]
    }
   ],
   "source": [
    "#Extract the first row of banking_data\n",
    "print(bank_data[0].astype(int))"
   ]
  },
  {
   "cell_type": "code",
   "execution_count": 23,
   "id": "ea1d3e9b",
   "metadata": {},
   "outputs": [
    {
     "name": "stdout",
     "output_type": "stream",
     "text": [
      "[ 2010 14500   785    28     9]\n"
     ]
    }
   ],
   "source": [
    "#Extract the last row of banking_data\n",
    "print(bank_data[-1].astype(int))"
   ]
  },
  {
   "cell_type": "code",
   "execution_count": 24,
   "id": "e8a00600",
   "metadata": {},
   "outputs": [
    {
     "name": "stdout",
     "output_type": "stream",
     "text": [
      "[ 5230 15890  2500 30250  8750 45000 11000  6700 22000 14500]\n"
     ]
    }
   ],
   "source": [
    "#Extract the Account_Balance column (column index 1)\n",
    "print(bank_data[:,1].astype(int))"
   ]
  },
  {
   "cell_type": "code",
   "execution_count": 25,
   "id": "2a42519c",
   "metadata": {},
   "outputs": [
    {
     "name": "stdout",
     "output_type": "stream",
     "text": [
      "[[ 2001  5230   720]\n",
      " [ 2002 15890   680]\n",
      " [ 2003  2500   650]\n",
      " [ 2004 30250   790]]\n"
     ]
    }
   ],
   "source": [
    "#Extract the first 4 rows and first 3 columns\n",
    "print(bank_data[:4,:3].astype(int))"
   ]
  },
  {
   "cell_type": "code",
   "execution_count": 26,
   "id": "9c370b86",
   "metadata": {},
   "outputs": [
    {
     "name": "stdout",
     "output_type": "stream",
     "text": [
      "[[ 2003  2500   650     8     2]\n",
      " [ 2004 30250   790    30    12]\n",
      " [ 2005  8750   710    12     4]\n",
      " [ 2006 45000   840    40    15]\n",
      " [ 2007 11000   695    18     6]]\n"
     ]
    }
   ],
   "source": [
    "#Extract rows 3 to 7 (inclusive)\n",
    "print(bank_data[2:7].astype(int))"
   ]
  },
  {
   "cell_type": "code",
   "execution_count": null,
   "id": "f1ecdd42",
   "metadata": {},
   "outputs": [],
   "source": [
    "Question 4: Mathematical Operations"
   ]
  },
  {
   "cell_type": "code",
   "execution_count": 27,
   "id": "1f32802c",
   "metadata": {},
   "outputs": [
    {
     "name": "stdout",
     "output_type": "stream",
     "text": [
      "161824.3\n"
     ]
    }
   ],
   "source": [
    "#Calculate the sum of all account balances\n",
    "Sum_of_Account_balance=np.sum(bank_data[:,1])\n",
    "print(Sum_of_Account_balance)"
   ]
  },
  {
   "cell_type": "code",
   "execution_count": 28,
   "id": "2a17fa0f",
   "metadata": {},
   "outputs": [
    {
     "name": "stdout",
     "output_type": "stream",
     "text": [
      "16182.429999999998\n"
     ]
    }
   ],
   "source": [
    "#Calculate the mean account balance\n",
    "mean_of_Account_balance=np.mean(bank_data[:,1])\n",
    "print(mean_of_Account_balance)"
   ]
  },
  {
   "cell_type": "code",
   "execution_count": 30,
   "id": "267d5502",
   "metadata": {},
   "outputs": [
    {
     "name": "stdout",
     "output_type": "stream",
     "text": [
      "12427.057700059173\n"
     ]
    }
   ],
   "source": [
    "#Calculate the standard deviation of account balances\n",
    "std_of_Account_balance=np.std(bank_data[:,1])\n",
    "print(std_of_Account_balance)"
   ]
  },
  {
   "cell_type": "code",
   "execution_count": 31,
   "id": "bd8c8a9b",
   "metadata": {},
   "outputs": [
    {
     "name": "stdout",
     "output_type": "stream",
     "text": [
      "154431763.0806\n"
     ]
    }
   ],
   "source": [
    "#Calculate the variance of account balances\n",
    "var_of_Account_balance=np.var(bank_data[:,1])\n",
    "print(var_of_Account_balance)"
   ]
  },
  {
   "cell_type": "code",
   "execution_count": 32,
   "id": "4f76849c",
   "metadata": {},
   "outputs": [
    {
     "name": "stdout",
     "output_type": "stream",
     "text": [
      "12750.325\n"
     ]
    }
   ],
   "source": [
    "#Calculate the median account balance\n",
    "median_of_Account_balance=np.median(bank_data[:,1])\n",
    "print(median_of_Account_balance)"
   ]
  },
  {
   "cell_type": "code",
   "execution_count": null,
   "id": "6d95972d",
   "metadata": {},
   "outputs": [],
   "source": [
    "Question 5: Statistical Functions\n"
   ]
  },
  {
   "cell_type": "code",
   "execution_count": 33,
   "id": "7cb1378c",
   "metadata": {},
   "outputs": [
    {
     "name": "stdout",
     "output_type": "stream",
     "text": [
      "(np.float64(2500.1), np.float64(45000.9))\n"
     ]
    }
   ],
   "source": [
    "#Find the minimum and maximum account balances\n",
    "min_max_of_Account_balance=np.min(bank_data[:,1]),np.max(bank_data[:,1])\n",
    "print(min_max_of_Account_balance)"
   ]
  },
  {
   "cell_type": "code",
   "execution_count": 34,
   "id": "a306032d",
   "metadata": {},
   "outputs": [
    {
     "name": "stdout",
     "output_type": "stream",
     "text": [
      "(np.float64(2500.1), np.float64(45000.9))\n"
     ]
    }
   ],
   "source": [
    "#Find the minimum and maximum credit scores\n",
    "min_max_of_credit_score=np.min(bank_data[:,2]),np.max(bank_data[:,2])\n",
    "print(min_max_of_Account_balance)"
   ]
  },
  {
   "cell_type": "code",
   "execution_count": 35,
   "id": "c979eecb",
   "metadata": {},
   "outputs": [
    {
     "name": "stdout",
     "output_type": "stream",
     "text": [
      "25th percentile: 7212.65\n",
      "50th percentile (median): 12750.325\n",
      "75th percentile: 20473.225\n"
     ]
    }
   ],
   "source": [
    "#calculate the percentile values for account balances (25th, 50th, 75th)\n",
    "percentiles = np.percentile(bank_data[:, 1], [25, 50, 75])\n",
    "print(\"25th percentile:\", percentiles[0])\n",
    "print(\"50th percentile (median):\", percentiles[1])\n",
    "print(\"75th percentile:\", percentiles[2])"
   ]
  },
  {
   "cell_type": "code",
   "execution_count": 36,
   "id": "f972a01e",
   "metadata": {},
   "outputs": [
    {
     "name": "stdout",
     "output_type": "stream",
     "text": [
      "[1.24857527e+08]\n"
     ]
    }
   ],
   "source": [
    "#Calculate the correlation between account balance and credit score\n",
    "cor_AB_CS=np.correlate(bank_data[:,1],bank_data[:,2])\n",
    "print(cor_AB_CS)"
   ]
  },
  {
   "cell_type": "code",
   "execution_count": 37,
   "id": "9fa8e08c",
   "metadata": {},
   "outputs": [
    {
     "name": "stdout",
     "output_type": "stream",
     "text": [
      "[[1.71590848e+08 6.30436644e+05]\n",
      " [6.30436644e+05 3.35027778e+03]]\n"
     ]
    }
   ],
   "source": [
    "#Calculate the covariance between account balance and credit score\n",
    "cov_AB_CS=np.cov(bank_data[:,1],bank_data[:,2])\n",
    "print(cov_AB_CS)"
   ]
  },
  {
   "cell_type": "code",
   "execution_count": null,
   "id": "2726f443",
   "metadata": {},
   "outputs": [],
   "source": [
    "Question 6: Array Reshaping and Manipulation\n"
   ]
  },
  {
   "cell_type": "code",
   "execution_count": 38,
   "id": "65b87371",
   "metadata": {},
   "outputs": [
    {
     "name": "stdout",
     "output_type": "stream",
     "text": [
      "[[ 2001  5230   720    15     5  2002 15890   680    22     8]\n",
      " [ 2003  2500   650     8     2  2004 30250   790    30    12]\n",
      " [ 2005  8750   710    12     4  2006 45000   840    40    15]\n",
      " [ 2007 11000   695    18     6  2008  6700   730    10     3]\n",
      " [ 2009 22000   765    25    10  2010 14500   785    28     9]]\n"
     ]
    }
   ],
   "source": [
    "#Reshape the banking_data to 5 rows × 10 columns\n",
    "print(bank_data.reshape(5,10).astype(int))\n"
   ]
  },
  {
   "cell_type": "code",
   "execution_count": 39,
   "id": "9a6586fd",
   "metadata": {},
   "outputs": [
    {
     "name": "stdout",
     "output_type": "stream",
     "text": [
      "[ 2001  5230   720    15     5  2002 15890   680    22     8  2003  2500\n",
      "   650     8     2  2004 30250   790    30    12  2005  8750   710    12\n",
      "     4  2006 45000   840    40    15  2007 11000   695    18     6  2008\n",
      "  6700   730    10     3  2009 22000   765    25    10  2010 14500   785\n",
      "    28     9]\n"
     ]
    }
   ],
   "source": [
    "#Flatten the banking_data to a 1D array\n",
    "print(bank_data.flatten().astype(int))"
   ]
  },
  {
   "cell_type": "code",
   "execution_count": 40,
   "id": "5195ec8e",
   "metadata": {},
   "outputs": [
    {
     "name": "stdout",
     "output_type": "stream",
     "text": [
      "[[ 2001  2002  2003  2004  2005  2006  2007  2008  2009  2010]\n",
      " [ 5230 15890  2500 30250  8750 45000 11000  6700 22000 14500]\n",
      " [  720   680   650   790   710   840   695   730   765   785]\n",
      " [   15    22     8    30    12    40    18    10    25    28]\n",
      " [    5     8     2    12     4    15     6     3    10     9]]\n"
     ]
    }
   ],
   "source": [
    "#Transpose the banking_data\n",
    "print(bank_data.T.astype(int))"
   ]
  },
  {
   "cell_type": "code",
   "execution_count": 41,
   "id": "2e060e9f",
   "metadata": {},
   "outputs": [
    {
     "name": "stdout",
     "output_type": "stream",
     "text": [
      "[[ 2001  5230   720    15     5]\n",
      " [ 2002 15890   680    22     8]\n",
      " [ 2003  2500   650     8     2]\n",
      " [ 2004 30250   790    30    12]\n",
      " [ 2005  8750   710    12     4]]\n",
      "[[ 2006 45000   840    40    15]\n",
      " [ 2007 11000   695    18     6]\n",
      " [ 2008  6700   730    10     3]\n",
      " [ 2009 22000   765    25    10]\n",
      " [ 2010 14500   785    28     9]]\n"
     ]
    }
   ],
   "source": [
    "#Split the banking_data into 2 equal parts vertically\n",
    "split_arrays = np.vsplit(bank_data, 2)\n",
    "for arr in split_arrays:\n",
    "    print(arr.astype(int))"
   ]
  },
  {
   "cell_type": "code",
   "execution_count": 43,
   "id": "50f86db8",
   "metadata": {},
   "outputs": [
    {
     "ename": "ValueError",
     "evalue": "array split does not result in an equal division",
     "output_type": "error",
     "traceback": [
      "\u001b[31m---------------------------------------------------------------------------\u001b[39m",
      "\u001b[31mValueError\u001b[39m                                Traceback (most recent call last)",
      "\u001b[36mCell\u001b[39m\u001b[36m \u001b[39m\u001b[32mIn[43]\u001b[39m\u001b[32m, line 2\u001b[39m\n\u001b[32m      1\u001b[39m \u001b[38;5;66;03m#Split the banking_data into 2 equal parts horizontal\u001b[39;00m\n\u001b[32m----> \u001b[39m\u001b[32m2\u001b[39m h_split_arrays = \u001b[43mnp\u001b[49m\u001b[43m.\u001b[49m\u001b[43mhsplit\u001b[49m\u001b[43m(\u001b[49m\u001b[43mbank_data\u001b[49m\u001b[43m,\u001b[49m\u001b[43m \u001b[49m\u001b[32;43m2\u001b[39;49m\u001b[43m)\u001b[49m\n\u001b[32m      3\u001b[39m \u001b[38;5;28;01mfor\u001b[39;00m arr \u001b[38;5;129;01min\u001b[39;00m h_split_arrays:\n\u001b[32m      4\u001b[39m     \u001b[38;5;28mprint\u001b[39m(arr.astype(\u001b[38;5;28mint\u001b[39m))\n",
      "\u001b[36mFile \u001b[39m\u001b[32mc:\\Users\\ADMIN\\AppData\\Local\\Programs\\Python\\Python313\\Lib\\site-packages\\numpy\\lib\\_shape_base_impl.py:959\u001b[39m, in \u001b[36mhsplit\u001b[39m\u001b[34m(ary, indices_or_sections)\u001b[39m\n\u001b[32m    957\u001b[39m     \u001b[38;5;28;01mraise\u001b[39;00m \u001b[38;5;167;01mValueError\u001b[39;00m(\u001b[33m'\u001b[39m\u001b[33mhsplit only works on arrays of 1 or more dimensions\u001b[39m\u001b[33m'\u001b[39m)\n\u001b[32m    958\u001b[39m \u001b[38;5;28;01mif\u001b[39;00m ary.ndim > \u001b[32m1\u001b[39m:\n\u001b[32m--> \u001b[39m\u001b[32m959\u001b[39m     \u001b[38;5;28;01mreturn\u001b[39;00m \u001b[43msplit\u001b[49m\u001b[43m(\u001b[49m\u001b[43mary\u001b[49m\u001b[43m,\u001b[49m\u001b[43m \u001b[49m\u001b[43mindices_or_sections\u001b[49m\u001b[43m,\u001b[49m\u001b[43m \u001b[49m\u001b[32;43m1\u001b[39;49m\u001b[43m)\u001b[49m\n\u001b[32m    960\u001b[39m \u001b[38;5;28;01melse\u001b[39;00m:\n\u001b[32m    961\u001b[39m     \u001b[38;5;28;01mreturn\u001b[39;00m split(ary, indices_or_sections, \u001b[32m0\u001b[39m)\n",
      "\u001b[36mFile \u001b[39m\u001b[32mc:\\Users\\ADMIN\\AppData\\Local\\Programs\\Python\\Python313\\Lib\\site-packages\\numpy\\lib\\_shape_base_impl.py:884\u001b[39m, in \u001b[36msplit\u001b[39m\u001b[34m(ary, indices_or_sections, axis)\u001b[39m\n\u001b[32m    882\u001b[39m     N = ary.shape[axis]\n\u001b[32m    883\u001b[39m     \u001b[38;5;28;01mif\u001b[39;00m N % sections:\n\u001b[32m--> \u001b[39m\u001b[32m884\u001b[39m         \u001b[38;5;28;01mraise\u001b[39;00m \u001b[38;5;167;01mValueError\u001b[39;00m(\n\u001b[32m    885\u001b[39m             \u001b[33m'\u001b[39m\u001b[33marray split does not result in an equal division\u001b[39m\u001b[33m'\u001b[39m) \u001b[38;5;28;01mfrom\u001b[39;00m\u001b[38;5;250m \u001b[39m\u001b[38;5;28;01mNone\u001b[39;00m\n\u001b[32m    886\u001b[39m \u001b[38;5;28;01mreturn\u001b[39;00m array_split(ary, indices_or_sections, axis)\n",
      "\u001b[31mValueError\u001b[39m: array split does not result in an equal division"
     ]
    }
   ],
   "source": [
    "#Split the banking_data into 2 equal parts horizontal\n",
    "h_split_arrays = np.hsplit(bank_data, 2)\n",
    "for arr in h_split_arrays:\n",
    "    print(arr.astype(int))"
   ]
  },
  {
   "cell_type": "code",
   "execution_count": null,
   "id": "c2658898",
   "metadata": {},
   "outputs": [],
   "source": [
    "Question 7: Logical Operations and Filtering\n"
   ]
  },
  {
   "cell_type": "code",
   "execution_count": 44,
   "id": "b9bed478",
   "metadata": {},
   "outputs": [
    {
     "name": "stdout",
     "output_type": "stream",
     "text": [
      "[[ 2002 15890   680    22     8]\n",
      " [ 2004 30250   790    30    12]\n",
      " [ 2006 45000   840    40    15]\n",
      " [ 2007 11000   695    18     6]\n",
      " [ 2009 22000   765    25    10]\n",
      " [ 2010 14500   785    28     9]]\n"
     ]
    }
   ],
   "source": [
    "#Find customers with account balance greater than $100,000\n",
    "Ab_greater_10000=bank_data[bank_data[:,1]>10000]\n",
    "print(Ab_greater_10000.astype(int))"
   ]
  },
  {
   "cell_type": "code",
   "execution_count": 45,
   "id": "b540c578",
   "metadata": {},
   "outputs": [
    {
     "name": "stdout",
     "output_type": "stream",
     "text": [
      "[[ 2006 45000   840    40    15]]\n"
     ]
    }
   ],
   "source": [
    "#Find customers with credit score greater than 800\n",
    "CS_greater_800=bank_data[bank_data[:,2]>800]\n",
    "print(CS_greater_800.astype(int))\n"
   ]
  },
  {
   "cell_type": "code",
   "execution_count": 46,
   "id": "81edb3ab",
   "metadata": {},
   "outputs": [
    {
     "name": "stdout",
     "output_type": "stream",
     "text": [
      "[]\n"
     ]
    }
   ],
   "source": [
    "#Find customers with transaction count greater than 50 AND credit score less than 750\n",
    "TCG50_CSL750=bank_data[(bank_data[:,3]>50)&(bank_data[:,2]<750)]\n",
    "print(TCG50_CSL750.astype(int))\n"
   ]
  },
  {
   "cell_type": "code",
   "execution_count": 47,
   "id": "07b6bc4d",
   "metadata": {},
   "outputs": [
    {
     "name": "stdout",
     "output_type": "stream",
     "text": [
      "6\n"
     ]
    }
   ],
   "source": [
    "#Count how many customers have account balance between $10,000 and $100,000\n",
    "customers_AB_G10L_L10K = bank_data[(bank_data[:, 1] >= 10000) & (bank_data[:, 1] <= 100000)]\n",
    "num_customers = customers_AB_G10L_L10K.shape[0]\n",
    "print(num_customers)\n"
   ]
  },
  {
   "cell_type": "code",
   "execution_count": 48,
   "id": "8ac2707d",
   "metadata": {},
   "outputs": [
    {
     "name": "stdout",
     "output_type": "stream",
     "text": [
      "840.0\n",
      "(array([5]),)\n"
     ]
    }
   ],
   "source": [
    "#Find the index of the customer with the highest credit score\n",
    "customers_high_credit_score = np.max(bank_data[:,2])\n",
    "print(customers_high_credit_score)\n",
    "index_C_HCS = np.where(bank_data[:, 2] == customers_high_credit_score)\n",
    "print(index_C_HCS)"
   ]
  },
  {
   "cell_type": "code",
   "execution_count": null,
   "id": "cfb81a1e",
   "metadata": {},
   "outputs": [],
   "source": [
    "Question 8: Sorting and Searching\n"
   ]
  },
  {
   "cell_type": "code",
   "execution_count": 49,
   "id": "ce613871",
   "metadata": {},
   "outputs": [
    {
     "name": "stdout",
     "output_type": "stream",
     "text": [
      "[[ 2003  2500   650     8     2]\n",
      " [ 2001  5230   720    15     5]\n",
      " [ 2008  6700   730    10     3]\n",
      " [ 2005  8750   710    12     4]\n",
      " [ 2007 11000   695    18     6]\n",
      " [ 2010 14500   785    28     9]\n",
      " [ 2002 15890   680    22     8]\n",
      " [ 2009 22000   765    25    10]\n",
      " [ 2004 30250   790    30    12]\n",
      " [ 2006 45000   840    40    15]]\n"
     ]
    }
   ],
   "source": [
    "#Sort the banking_data by account balance (ascending)\n",
    "sorted_bank_data = bank_data[bank_data[:, 1].argsort()]\n",
    "print(sorted_bank_data.astype(int))"
   ]
  },
  {
   "cell_type": "code",
   "execution_count": 50,
   "id": "695573bb",
   "metadata": {},
   "outputs": [
    {
     "name": "stdout",
     "output_type": "stream",
     "text": [
      "[[ 2006 45000   840    40    15]\n",
      " [ 2004 30250   790    30    12]\n",
      " [ 2009 22000   765    25    10]\n",
      " [ 2002 15890   680    22     8]\n",
      " [ 2010 14500   785    28     9]\n",
      " [ 2007 11000   695    18     6]\n",
      " [ 2005  8750   710    12     4]\n",
      " [ 2008  6700   730    10     3]\n",
      " [ 2001  5230   720    15     5]\n",
      " [ 2003  2500   650     8     2]]\n"
     ]
    }
   ],
   "source": [
    "#Sort the banking_data by credit score (descending)\n",
    "sorted_bank_data2 = bank_data[bank_data[:, 1].argsort()[::-1]]\n",
    "print(sorted_bank_data2.astype(int))\n"
   ]
  },
  {
   "cell_type": "code",
   "execution_count": 51,
   "id": "ce0b9572",
   "metadata": {},
   "outputs": [
    {
     "name": "stdout",
     "output_type": "stream",
     "text": [
      "[2 7 4 0 6 1 9 8 3 5]\n",
      "[[ 2003  2500   650     8     2]\n",
      " [ 2008  6700   730    10     3]\n",
      " [ 2005  8750   710    12     4]\n",
      " [ 2001  5230   720    15     5]\n",
      " [ 2007 11000   695    18     6]\n",
      " [ 2002 15890   680    22     8]\n",
      " [ 2010 14500   785    28     9]\n",
      " [ 2009 22000   765    25    10]\n",
      " [ 2004 30250   790    30    12]\n",
      " [ 2006 45000   840    40    15]]\n"
     ]
    }
   ],
   "source": [
    "#Find the indices that would sort the array by years active\n",
    "sorted_indices = np.argsort(bank_data[:, 4])\n",
    "print(sorted_indices)\n",
    "sorted_by_years_active = bank_data[sorted_indices]\n",
    "print(sorted_by_years_active.astype(int))"
   ]
  },
  {
   "cell_type": "code",
   "execution_count": 52,
   "id": "afbc63d7",
   "metadata": {},
   "outputs": [
    {
     "name": "stdout",
     "output_type": "stream",
     "text": [
      "[ 2004 30250   790    30    12]\n"
     ]
    }
   ],
   "source": [
    "#Find the customer with the second highest account balance\n",
    "sorted_by_balance = bank_data[bank_data[:, 1].argsort()[::-1]]\n",
    "second_highest_balance_customer = sorted_by_balance[1]\n",
    "print(second_highest_balance_customer.astype(int))"
   ]
  },
  {
   "cell_type": "code",
   "execution_count": 53,
   "id": "d2d324dc",
   "metadata": {},
   "outputs": [
    {
     "name": "stdout",
     "output_type": "stream",
     "text": [
      "8.0\n",
      "(array([2]),)\n"
     ]
    }
   ],
   "source": [
    "#Find the customer with the lowest transaction count\n",
    "Low_Transaction_count=np.min(bank_data[:,3])\n",
    "print(Low_Transaction_count)\n",
    "index_Low_Transaction_count=np.where(bank_data[:,3]==Low_Transaction_count)\n",
    "print(index_Low_Transaction_count)"
   ]
  },
  {
   "cell_type": "code",
   "execution_count": null,
   "id": "62fddccd",
   "metadata": {},
   "outputs": [],
   "source": [
    "Question 9: Mathematical Functions\n"
   ]
  },
  {
   "cell_type": "code",
   "execution_count": 54,
   "id": "2a853466",
   "metadata": {},
   "outputs": [
    {
     "name": "stdout",
     "output_type": "stream",
     "text": [
      "[[ 2001  5230   720    15     5]\n",
      " [ 2002 15890   680    22     8]\n",
      " [ 2003  2500   650     8     2]\n",
      " [ 2004 30250   790    30    12]\n",
      " [ 2005  8750   710    12     4]\n",
      " [ 2006 45000   840    40    15]\n",
      " [ 2007 11000   695    18     6]\n",
      " [ 2008  6700   730    10     3]\n",
      " [ 2009 22000   765    25    10]\n",
      " [ 2010 14500   785    28     9]]\n"
     ]
    }
   ],
   "source": [
    "#Calculate the absolute values of all elements\n",
    "Absolute_of_BD=np.absolute(bank_data)\n",
    "print(Absolute_of_BD.astype(int))\n"
   ]
  },
  {
   "cell_type": "code",
   "execution_count": 55,
   "id": "588c2106",
   "metadata": {},
   "outputs": [
    {
     "name": "stdout",
     "output_type": "stream",
     "text": [
      "[ 72 126  50 173  93 212 104  81 148 120]\n"
     ]
    }
   ],
   "source": [
    "#Calculate the square root of all account balances\n",
    "Sqrt_of_Bd=np.sqrt(bank_data[:,1])\n",
    "print(Sqrt_of_Bd.astype(int))\n"
   ]
  },
  {
   "cell_type": "code",
   "execution_count": 56,
   "id": "dc510708",
   "metadata": {},
   "outputs": [
    {
     "name": "stdout",
     "output_type": "stream",
     "text": [
      "[518400 462400 422500 624100 504100 705600 483025 532900 585225 616225]\n"
     ]
    }
   ],
   "source": [
    "#Calculate the square of all credit scores\n",
    "square_of_credit_scores = np.square(bank_data[:, 2])\n",
    "print(square_of_credit_scores.astype(int))\n"
   ]
  },
  {
   "cell_type": "code",
   "execution_count": 57,
   "id": "78fabc5d",
   "metadata": {},
   "outputs": [
    {
     "name": "stdout",
     "output_type": "stream",
     "text": [
      "[           3269017         3584912846               2980\n",
      "     10686474581524             162754 235385266837020000\n",
      "           65659969              22026        72004899337\n",
      "      1446257064291]\n"
     ]
    }
   ],
   "source": [
    "#Calculate the exponential of all transaction counts\n",
    "TC_exp_of_all=np.exp(bank_data[:,3])\n",
    "print(TC_exp_of_all.astype(int))\n"
   ]
  },
  {
   "cell_type": "code",
   "execution_count": 58,
   "id": "f6e380e5",
   "metadata": {},
   "outputs": [
    {
     "name": "stdout",
     "output_type": "stream",
     "text": [
      "[ 8.56230995  9.67347673  7.82408601 10.31725146  9.07687755 10.71443777\n",
      "  9.30567328  8.80986281  9.9988341   9.58193151]\n"
     ]
    }
   ],
   "source": [
    "#Calculate the natural logarithm of all account balances\n",
    "log_of_account_balances = np.log(bank_data[:, 1])\n",
    "print(log_of_account_balances)"
   ]
  },
  {
   "cell_type": "code",
   "execution_count": null,
   "id": "8e85cd40",
   "metadata": {},
   "outputs": [],
   "source": [
    "Question 10: Advanced Operations\n"
   ]
  },
  {
   "cell_type": "code",
   "execution_count": 59,
   "id": "6e5fb67e",
   "metadata": {},
   "outputs": [
    {
     "name": "stdout",
     "output_type": "stream",
     "text": [
      "[  5230  21121  23621  53871  62621 107622 118623 125323 147323 161824]\n"
     ]
    }
   ],
   "source": [
    "#Calculate the cumulative sum of account balances\n",
    "CumulativeSum_AB=np.cumsum(bank_data[:,1])\n",
    "print(CumulativeSum_AB.astype(int))\n"
   ]
  },
  {
   "cell_type": "code",
   "execution_count": 61,
   "id": "7d2c5ea2",
   "metadata": {},
   "outputs": [
    {
     "name": "stdout",
     "output_type": "stream",
     "text": [
      "[           15           330          2640         79200        950400\n",
      "      38016000     684288000    6842880000  171072000000 4790016000000]\n"
     ]
    }
   ],
   "source": [
    "#Calculate the cumulative product of transaction counts\n",
    "Cumulativeproduct_AB=np.cumprod(bank_data[:,3])\n",
    "print(Cumulativeproduct_AB.astype(int))\n"
   ]
  },
  {
   "cell_type": "code",
   "execution_count": 62,
   "id": "d21ab72b",
   "metadata": {},
   "outputs": [
    {
     "name": "stdout",
     "output_type": "stream",
     "text": [
      "[ 10659 -13390  27749 -21499  36250 -34000  -4300  15300  -7500]\n"
     ]
    }
   ],
   "source": [
    "#Calculate the difference between consecutive account balances\n",
    "diff_Consection_AB=np.diff(bank_data[:,1])\n",
    "print(diff_Consection_AB.astype(int))"
   ]
  },
  {
   "cell_type": "code",
   "execution_count": 63,
   "id": "673a8750",
   "metadata": {},
   "outputs": [
    {
     "name": "stdout",
     "output_type": "stream",
     "text": [
      "[ 10659 -13390  27749 -21499  36250 -34000  -4300  15300  -7500]\n"
     ]
    }
   ],
   "source": [
    "#Calculate the gradient of account balances\n",
    "gradient_AB=np.diff(bank_data[:,1])\n",
    "print(gradient_AB.astype(int))"
   ]
  },
  {
   "cell_type": "code",
   "execution_count": 64,
   "id": "b8cf2a5d",
   "metadata": {},
   "outputs": [
    {
     "name": "stdout",
     "output_type": "stream",
     "text": [
      "(array([5, 2, 1, 1, 1]), array([ 2500.1 , 11000.26, 19500.42, 28000.58, 36500.74, 45000.9 ]))\n"
     ]
    }
   ],
   "source": [
    "#Calculate the histogram of account balances with 5 bins\n",
    "Histogram_AB=np.histogram(bank_data[:,1],bins=5)\n",
    "print(Histogram_AB)"
   ]
  },
  {
   "cell_type": "code",
   "execution_count": null,
   "id": "5476d132",
   "metadata": {},
   "outputs": [],
   "source": [
    "Question 11: Random Numbers and Simulation\n"
   ]
  },
  {
   "cell_type": "code",
   "execution_count": 65,
   "id": "83034d03",
   "metadata": {},
   "outputs": [
    {
     "name": "stdout",
     "output_type": "stream",
     "text": [
      "[47 48 56 93 66 96]\n"
     ]
    }
   ],
   "source": [
    "#Generate 6 random integers between 1 and 1000\n",
    "Gen_six_integer=np.random.randint(1,100,6)\n",
    "print(Gen_six_integer)"
   ]
  },
  {
   "cell_type": "code",
   "execution_count": 66,
   "id": "56b8da8b",
   "metadata": {},
   "outputs": [
    {
     "name": "stdout",
     "output_type": "stream",
     "text": [
      "[93 62 87 46 77 54]\n"
     ]
    }
   ],
   "source": [
    "#Generate 6 random floats between 0 and 1\n",
    "Gen_six_float=np.random.randint(1,100,6)\n",
    "print(Gen_six_float)\n"
   ]
  },
  {
   "cell_type": "code",
   "execution_count": 67,
   "id": "6a611b85",
   "metadata": {},
   "outputs": [
    {
     "name": "stdout",
     "output_type": "stream",
     "text": [
      "[588.06416529 636.80417546 588.89972383 658.95214338 672.17566374\n",
      " 775.15789622]\n"
     ]
    }
   ],
   "source": [
    "#Generate 6 random numbers from normal distribution (mean=700, std=100)\n",
    "random_normal = np.random.normal(loc=700, scale=100, size=6)\n",
    "print(random_normal)\n"
   ]
  },
  {
   "cell_type": "code",
   "execution_count": 68,
   "id": "427ee263",
   "metadata": {},
   "outputs": [
    {
     "name": "stdout",
     "output_type": "stream",
     "text": [
      "[[ 2002 15890   680    22     8]\n",
      " [ 2008  6700   730    10     3]\n",
      " [ 2005  8750   710    12     4]\n",
      " [ 2009 22000   765    25    10]\n",
      " [ 2003  2500   650     8     2]\n",
      " [ 2010 14500   785    28     9]\n",
      " [ 2007 11000   695    18     6]\n",
      " [ 2001  5230   720    15     5]\n",
      " [ 2006 45000   840    40    15]\n",
      " [ 2004 30250   790    30    12]]\n"
     ]
    }
   ],
   "source": [
    "#Shuffle the banking_data rows randomly\n",
    "np.random.shuffle(bank_data)\n",
    "print(bank_data.astype(int))"
   ]
  },
  {
   "cell_type": "code",
   "execution_count": 69,
   "id": "99008083",
   "metadata": {},
   "outputs": [
    {
     "name": "stdout",
     "output_type": "stream",
     "text": [
      "2\n"
     ]
    }
   ],
   "source": [
    "#Set random seed to 123 and generate 4 random numbers\n",
    "np.random.seed(123)\n",
    "random_numbers = np.random.randint(4)\n",
    "print(random_numbers)"
   ]
  },
  {
   "cell_type": "code",
   "execution_count": null,
   "id": "640e2982",
   "metadata": {},
   "outputs": [],
   "source": [
    "Question 12: Linear Algebra Operations\n",
    "ix"
   ]
  },
  {
   "cell_type": "code",
   "execution_count": 71,
   "id": "f5f63c8a",
   "metadata": {},
   "outputs": [
    {
     "name": "stdout",
     "output_type": "stream",
     "text": [
      "124857526.75\n"
     ]
    }
   ],
   "source": [
    "#Calculate the dot product of account balance and credit score columns\n",
    "dot_Product_AB_CS=np.dot(Account_balance,creadit_score)\n",
    "print(dot_Product_AB_CS)"
   ]
  },
  {
   "cell_type": "code",
   "execution_count": null,
   "id": "4a414ba2",
   "metadata": {},
   "outputs": [],
   "source": [
    "#Calculate the cross product of first two rows"
   ]
  },
  {
   "cell_type": "code",
   "execution_count": 72,
   "id": "f0250b37",
   "metadata": {},
   "outputs": [
    {
     "name": "stdout",
     "output_type": "stream",
     "text": [
      "64521.531583301716\n"
     ]
    }
   ],
   "source": [
    "#Calculate the norm (magnitude) of the account balance column\n",
    "Norm_AB=np.linalg.norm(Account_balance)\n",
    "print(Norm_AB)"
   ]
  },
  {
   "cell_type": "code",
   "execution_count": 73,
   "id": "7a9cbdc2",
   "metadata": {},
   "outputs": [
    {
     "name": "stdout",
     "output_type": "stream",
     "text": [
      "[[1 2 3]\n",
      " [4 5 6]\n",
      " [7 8 9]]\n",
      "0.0\n"
     ]
    }
   ],
   "source": [
    "#Create a 3x3 matrix and calculate its determinant\n",
    "Matrix_3X3=np.array([[1,2,3],\n",
    " [4,5,6],\n",
    "  [7,8,9]])\n",
    "print(Matrix_3X3)\n",
    "Matrix_3X3_determinant=np.linalg.det(Matrix_3X3)\n",
    "print(Matrix_3X3_determinant)"
   ]
  },
  {
   "cell_type": "code",
   "execution_count": 74,
   "id": "8fed0ae5",
   "metadata": {},
   "outputs": [
    {
     "name": "stdout",
     "output_type": "stream",
     "text": [
      "Created a different invertible 3x3 matrix:\n",
      "[[3 1 4]\n",
      " [1 5 9]\n",
      " [2 6 5]]\n",
      "\n",
      "Inverse of the second matrix:\n",
      "[[0 0 0]\n",
      " [0 0 0]\n",
      " [0 0 0]]\n"
     ]
    }
   ],
   "source": [
    "#Calculate the inverse of the 3x3 matrix\n",
    "# Create another invertible 3x3 matrix (a different example)\n",
    "invertible_matrix_2 = np.array([[3, 1, 4],\n",
    "                                [1, 5, 9],\n",
    "                                [2, 6, 5]])\n",
    "\n",
    "print(\"Created a different invertible 3x3 matrix:\")\n",
    "print(invertible_matrix_2)\n",
    "\n",
    "# Calculate the inverse of this matrix\n",
    "inverse_of_matrix_2 = np.linalg.inv(invertible_matrix_2)\n",
    "\n",
    "print(\"\\nInverse of the second matrix:\")\n",
    "print(inverse_of_matrix_2.astype(int))"
   ]
  },
  {
   "cell_type": "code",
   "execution_count": null,
   "id": "fd130426",
   "metadata": {},
   "outputs": [],
   "source": [
    "Question 13: String Operations\n"
   ]
  },
  {
   "cell_type": "code",
   "execution_count": 75,
   "id": "50b3b9aa",
   "metadata": {},
   "outputs": [
    {
     "name": "stdout",
     "output_type": "stream",
     "text": [
      "['2002.0' '2008.0' '2005.0' '2009.0' '2003.0' '2010.0' '2007.0' '2001.0'\n",
      " '2006.0' '2004.0']\n"
     ]
    }
   ],
   "source": [
    "#Convert all customer IDs to strings\n",
    "Customer_id_String=Customer_id.astype(str)\n",
    "print(Customer_id_String)\n"
   ]
  },
  {
   "cell_type": "code",
   "execution_count": 76,
   "id": "a861bd31",
   "metadata": {},
   "outputs": [
    {
     "name": "stdout",
     "output_type": "stream",
     "text": [
      "['2002.0' '2008.0' '2005.0' '2009.0' '2003.0' '2010.0' '2007.0' '2001.0'\n",
      " '2006.0' '2004.0']\n"
     ]
    }
   ],
   "source": [
    "#Check if any customer ID contains '100'\n",
    "Customer_id_contain=Customer_id.astype(str)\n",
    "print(Customer_id_contain)"
   ]
  },
  {
   "cell_type": "code",
   "execution_count": 77,
   "id": "d10d32c4",
   "metadata": {},
   "outputs": [
    {
     "name": "stdout",
     "output_type": "stream",
     "text": [
      "['2002.0' '2008.0' '2005.0' '2009.0' '2003.0' '2010.0' '2007.0' '2001.0'\n",
      " '2006.0' '2004.0']\n"
     ]
    }
   ],
   "source": [
    "#Convert all customer IDs to uppercase (if they were strings)\n",
    "customer_id_uppercase = np.char.upper(Customer_id_String)\n",
    "print(customer_id_uppercase)\n"
   ]
  },
  {
   "cell_type": "code",
   "execution_count": 78,
   "id": "9e62681e",
   "metadata": {},
   "outputs": [
    {
     "name": "stdout",
     "output_type": "stream",
     "text": [
      "[6 6 6 6 6 6 6 6 6 6]\n"
     ]
    }
   ],
   "source": [
    "#Count the length of each customer ID string\n",
    "Len_of_customer_id=np.char.str_len(Customer_id_String)\n",
    "print(Len_of_customer_id)"
   ]
  },
  {
   "cell_type": "code",
   "execution_count": 79,
   "id": "e31a9326",
   "metadata": {},
   "outputs": [
    {
     "name": "stdout",
     "output_type": "stream",
     "text": [
      "['2002.0' '2008.0' '200CUST.0' '2009.0' '2003.0' '2010.0' '2007.0'\n",
      " '2001.0' '2006.0' '2004.0']\n"
     ]
    }
   ],
   "source": [
    "#Replace '100' with 'CUST' in customer IDs\n",
    "customer_id_replaced = np.char.replace(Customer_id_String, '5', 'CUST')\n",
    "#customer_id_replaced = np.char.replace(customer_id_replaced, '10', 'CUST')\n",
    "print(customer_id_replaced)"
   ]
  },
  {
   "cell_type": "code",
   "execution_count": null,
   "id": "3e3d0d1a",
   "metadata": {},
   "outputs": [],
   "source": [
    "Question 14: Date and Time Operations\n"
   ]
  },
  {
   "cell_type": "code",
   "execution_count": 80,
   "id": "2a59a2a4",
   "metadata": {},
   "outputs": [
    {
     "name": "stdout",
     "output_type": "stream",
     "text": [
      "[ 96  36  48 120  24 108  72  60 180 144]\n"
     ]
    }
   ],
   "source": [
    "#Convert years active to months\n",
    "years_active_months = Years_Active * 12\n",
    "print(years_active_months.astype(int))\n"
   ]
  },
  {
   "cell_type": "code",
   "execution_count": 81,
   "id": "fd26bcf0",
   "metadata": {},
   "outputs": [
    {
     "name": "stdout",
     "output_type": "stream",
     "text": [
      "7.4\n"
     ]
    }
   ],
   "source": [
    "#Calculate the average years active\n",
    "Avg_years_active=np.mean(Years_Active)\n",
    "print(Avg_years_active)\n"
   ]
  },
  {
   "cell_type": "code",
   "execution_count": 82,
   "id": "d3fb2897",
   "metadata": {},
   "outputs": [
    {
     "name": "stdout",
     "output_type": "stream",
     "text": [
      "[[ 2002 15890   680    22     8]\n",
      " [ 2009 22000   765    25    10]\n",
      " [ 2010 14500   785    28     9]\n",
      " [ 2007 11000   695    18     6]\n",
      " [ 2006 45000   840    40    15]\n",
      " [ 2004 30250   790    30    12]]\n"
     ]
    }
   ],
   "source": [
    "#Find customers who have been active for more than 5 years\n",
    "Customer_Active_5Y=bank_data[Years_Active>5]\n",
    "print(Customer_Active_5Y.astype(int))\n"
   ]
  },
  {
   "cell_type": "code",
   "execution_count": 83,
   "id": "415ab2dc",
   "metadata": {},
   "outputs": [
    {
     "name": "stdout",
     "output_type": "stream",
     "text": [
      "74.0\n"
     ]
    }
   ],
   "source": [
    "#Calculate the total time all customers have been active (in years)\n",
    "Total_time_customer=np.sum(Years_Active)\n",
    "print(Total_time_customer)\n"
   ]
  },
  {
   "cell_type": "code",
   "execution_count": 84,
   "id": "d55a2219",
   "metadata": {},
   "outputs": [
    {
     "name": "stdout",
     "output_type": "stream",
     "text": [
      "2.0\n",
      "[[2003 2500  650    8    2]]\n"
     ]
    }
   ],
   "source": [
    "#Find the customer with the shortest time active\n",
    "Sortest_Customer_active=np.min(Years_Active)\n",
    "print(Sortest_Customer_active)\n",
    "Sortest_Customer_active_index=bank_data[Years_Active==Sortest_Customer_active]\n",
    "print(Sortest_Customer_active_index.astype(int))"
   ]
  },
  {
   "cell_type": "code",
   "execution_count": null,
   "id": "338870fb",
   "metadata": {},
   "outputs": [],
   "source": [
    "Question 15: Advanced Array Operations\n"
   ]
  },
  {
   "cell_type": "code",
   "execution_count": 85,
   "id": "be06c06c",
   "metadata": {},
   "outputs": [
    {
     "name": "stdout",
     "output_type": "stream",
     "text": [
      "[ 794  335  437 1100  125  725  550  261 2250 1512]\n",
      "[16685  7035  9188 23100  2625 15225 11550  5492 47250 31762]\n"
     ]
    }
   ],
   "source": [
    "#Apply a function to calculate 5% interest on all account balances\n",
    "interest = Account_balance * 0.05\n",
    "print(interest.astype(int))\n",
    "new_account_balances = Account_balance + interest\n",
    "print(new_account_balances.astype(int))\n"
   ]
  },
  {
   "cell_type": "code",
   "execution_count": 86,
   "id": "31602d3d",
   "metadata": {},
   "outputs": [
    {
     "name": "stdout",
     "output_type": "stream",
     "text": [
      "7212.65\n",
      "20473.225\n",
      "['Medium Balance' 'Low Balance' 'Medium Balance' 'High Balance'\n",
      " 'Low Balance' 'Medium Balance' 'Medium Balance' 'Low Balance'\n",
      " 'High Balance' 'High Balance']\n"
     ]
    }
   ],
   "source": [
    "#Use np.where to categorize customers by balance ranges\n",
    "low_of_AB=np.percentile(Account_balance,25)\n",
    "print(low_of_AB)\n",
    "\n",
    "high_of_AB=np.percentile(Account_balance,75)\n",
    "print(high_of_AB)\n",
    "balance_categories_AB = np.where(Account_balance < low_of_AB, 'Low Balance',\n",
    "                              np.where(Account_balance < high_of_AB, 'Medium Balance', 'High Balance'))\n",
    "print(balance_categories_AB)"
   ]
  },
  {
   "cell_type": "code",
   "execution_count": 87,
   "id": "11c333c6",
   "metadata": {},
   "outputs": [
    {
     "name": "stdout",
     "output_type": "stream",
     "text": [
      "698.75\n",
      "780.0\n",
      "['Low Credit Score' 'Medium Credit Score' 'Medium Credit Score'\n",
      " 'Medium Credit Score' 'Low Credit Score' 'High Credit Score'\n",
      " 'Low Credit Score' 'Medium Credit Score' 'High Credit Score'\n",
      " 'High Credit Score']\n"
     ]
    }
   ],
   "source": [
    "#Use np.select to categorize customers by credit score ranges\n",
    "low_of_CS=np.percentile(creadit_score,25)\n",
    "print(low_of_CS)\n",
    "\n",
    "high_of_CS=np.percentile(creadit_score,75)\n",
    "print(high_of_CS)\n",
    "\n",
    "conditions=[\n",
    "    (creadit_score<low_of_CS),\n",
    "    (creadit_score>=low_of_CS)&(creadit_score<high_of_CS),\n",
    "    (creadit_score>=high_of_CS)\n",
    "]\n",
    "\n",
    "categories=['Low Credit Score','Medium Credit Score','High Credit Score']\n",
    "\n",
    "credit_score_categories=np.select(conditions,categories,default='Unknown')\n",
    "print(credit_score_categories)\n"
   ]
  },
  {
   "cell_type": "code",
   "execution_count": 88,
   "id": "8d85c90e",
   "metadata": {},
   "outputs": [
    {
     "name": "stdout",
     "output_type": "stream",
     "text": [
      "7212.65\n",
      "20473.225\n"
     ]
    }
   ],
   "source": [
    "#Use np.piecewise to apply different interest rates based on balance\n",
    "low_of_AB=np.percentile(Account_balance,25)\n",
    "print(low_of_AB)\n",
    "\n",
    "high_of_Ab=np.percentile(Account_balance,75)\n",
    "print(high_of_AB)\n",
    "\n",
    "conditions=[\n",
    "    (Account_balance<low_of_AB),\n",
    "    (Account_balance>=low_of_AB)&(Account_balance<high_of_AB),\n",
    "    (Account_balance>=high_of_AB)\n",
    "]\n",
    "# def calculate_low_interest(x):\n",
    "#   return x * 0.03\n",
    "\n",
    "# def calculate_medium_interest(x):\n",
    "#   return x * 0.05\n",
    "\n",
    "# def calculate_high_interest(x):\n",
    "#   return x * 0.07\n",
    "# functions=[\n",
    "#     calculate_low_interest,\n",
    "#     calculate_medium_interest,\n",
    "#     calculate_high_interest\n",
    "# ]\n",
    "\n",
    "functions=[\n",
    "    lambda x: x * 0.03,\n",
    "    lambda x: x * 0.05,\n",
    "    lambda x: x * 0.07\n",
    "]"
   ]
  },
  {
   "cell_type": "code",
   "execution_count": 89,
   "id": "78dabbb5",
   "metadata": {},
   "outputs": [
    {
     "name": "stdout",
     "output_type": "stream",
     "text": [
      "[18602.5   9451.   11481.6  24809.8   5163.1  17332.4  13726.25  7971.75\n",
      " 47901.9  33086.  ]\n"
     ]
    }
   ],
   "source": [
    "#Use np.apply_along_axis to calculate the sum of each row\n",
    "# Calculate the sum of each row using np.apply_along_axis\n",
    "row_sums = np.apply_along_axis(np.sum, 1, bank_data)\n",
    "\n",
    "# Print the resulting row sums\n",
    "print(row_sums)"
   ]
  },
  {
   "cell_type": "code",
   "execution_count": null,
   "id": "9a8ff488",
   "metadata": {},
   "outputs": [],
   "source": []
  },
  {
   "cell_type": "code",
   "execution_count": null,
   "id": "cbe8356f",
   "metadata": {},
   "outputs": [],
   "source": []
  },
  {
   "cell_type": "code",
   "execution_count": null,
   "id": "b62af5cb",
   "metadata": {},
   "outputs": [],
   "source": []
  },
  {
   "cell_type": "code",
   "execution_count": null,
   "id": "3bf2ccdc",
   "metadata": {},
   "outputs": [],
   "source": []
  },
  {
   "cell_type": "code",
   "execution_count": null,
   "id": "d37faa86",
   "metadata": {},
   "outputs": [],
   "source": []
  },
  {
   "cell_type": "code",
   "execution_count": null,
   "id": "4ca7a9c2",
   "metadata": {},
   "outputs": [],
   "source": []
  },
  {
   "cell_type": "code",
   "execution_count": null,
   "id": "90883b9f",
   "metadata": {},
   "outputs": [],
   "source": []
  },
  {
   "cell_type": "code",
   "execution_count": null,
   "id": "7493458f",
   "metadata": {},
   "outputs": [],
   "source": []
  },
  {
   "cell_type": "code",
   "execution_count": null,
   "id": "e232a398",
   "metadata": {},
   "outputs": [],
   "source": []
  },
  {
   "cell_type": "code",
   "execution_count": null,
   "id": "ea817cde",
   "metadata": {},
   "outputs": [],
   "source": []
  },
  {
   "cell_type": "code",
   "execution_count": null,
   "id": "36515d3d",
   "metadata": {},
   "outputs": [],
   "source": []
  },
  {
   "cell_type": "code",
   "execution_count": null,
   "id": "874795cb",
   "metadata": {},
   "outputs": [],
   "source": []
  },
  {
   "cell_type": "code",
   "execution_count": null,
   "id": "c95b05fd",
   "metadata": {},
   "outputs": [],
   "source": []
  },
  {
   "cell_type": "code",
   "execution_count": null,
   "id": "abd0fcde",
   "metadata": {},
   "outputs": [],
   "source": []
  },
  {
   "cell_type": "code",
   "execution_count": null,
   "id": "efa47f18",
   "metadata": {},
   "outputs": [],
   "source": []
  },
  {
   "cell_type": "code",
   "execution_count": null,
   "id": "41518318",
   "metadata": {},
   "outputs": [],
   "source": []
  },
  {
   "cell_type": "code",
   "execution_count": null,
   "id": "1141092d",
   "metadata": {},
   "outputs": [],
   "source": []
  },
  {
   "cell_type": "code",
   "execution_count": null,
   "id": "690f6c1a",
   "metadata": {},
   "outputs": [],
   "source": []
  },
  {
   "cell_type": "code",
   "execution_count": null,
   "id": "c8d213fd",
   "metadata": {},
   "outputs": [],
   "source": []
  },
  {
   "cell_type": "code",
   "execution_count": null,
   "id": "2a3ae6a7",
   "metadata": {},
   "outputs": [],
   "source": []
  },
  {
   "cell_type": "code",
   "execution_count": null,
   "id": "08bd3af9",
   "metadata": {},
   "outputs": [],
   "source": []
  },
  {
   "cell_type": "code",
   "execution_count": null,
   "id": "f2394d5b",
   "metadata": {},
   "outputs": [],
   "source": []
  },
  {
   "cell_type": "code",
   "execution_count": null,
   "id": "5629cb3e",
   "metadata": {},
   "outputs": [],
   "source": []
  },
  {
   "cell_type": "code",
   "execution_count": null,
   "id": "95dc25b3",
   "metadata": {},
   "outputs": [],
   "source": []
  },
  {
   "cell_type": "code",
   "execution_count": null,
   "id": "406870f8",
   "metadata": {},
   "outputs": [],
   "source": []
  },
  {
   "cell_type": "code",
   "execution_count": null,
   "id": "6e6936f1",
   "metadata": {},
   "outputs": [],
   "source": []
  },
  {
   "cell_type": "code",
   "execution_count": null,
   "id": "14d99c78",
   "metadata": {},
   "outputs": [],
   "source": []
  },
  {
   "cell_type": "code",
   "execution_count": null,
   "id": "be334bff",
   "metadata": {},
   "outputs": [],
   "source": []
  },
  {
   "cell_type": "code",
   "execution_count": null,
   "id": "6f32cb27",
   "metadata": {},
   "outputs": [],
   "source": []
  },
  {
   "cell_type": "code",
   "execution_count": null,
   "id": "00bd2fea",
   "metadata": {},
   "outputs": [],
   "source": []
  },
  {
   "cell_type": "code",
   "execution_count": null,
   "id": "f93030b0",
   "metadata": {},
   "outputs": [],
   "source": []
  },
  {
   "cell_type": "code",
   "execution_count": null,
   "id": "51eaedce",
   "metadata": {},
   "outputs": [],
   "source": []
  },
  {
   "cell_type": "code",
   "execution_count": null,
   "id": "dff0b5ff",
   "metadata": {},
   "outputs": [],
   "source": []
  },
  {
   "cell_type": "code",
   "execution_count": null,
   "id": "f198dcc0",
   "metadata": {},
   "outputs": [],
   "source": []
  },
  {
   "cell_type": "code",
   "execution_count": null,
   "id": "6e623516",
   "metadata": {},
   "outputs": [],
   "source": []
  },
  {
   "cell_type": "code",
   "execution_count": null,
   "id": "94157c23",
   "metadata": {},
   "outputs": [],
   "source": []
  },
  {
   "cell_type": "code",
   "execution_count": null,
   "id": "53c44372",
   "metadata": {},
   "outputs": [],
   "source": []
  },
  {
   "cell_type": "code",
   "execution_count": null,
   "id": "259b9c77",
   "metadata": {},
   "outputs": [],
   "source": []
  },
  {
   "cell_type": "code",
   "execution_count": null,
   "id": "cf0b32cb",
   "metadata": {},
   "outputs": [],
   "source": []
  },
  {
   "cell_type": "code",
   "execution_count": null,
   "id": "dbff392b",
   "metadata": {},
   "outputs": [],
   "source": []
  },
  {
   "cell_type": "code",
   "execution_count": null,
   "id": "2c176f3d",
   "metadata": {},
   "outputs": [],
   "source": []
  },
  {
   "cell_type": "code",
   "execution_count": null,
   "id": "bf3d0933",
   "metadata": {},
   "outputs": [],
   "source": []
  },
  {
   "cell_type": "code",
   "execution_count": null,
   "id": "4e4ca48b",
   "metadata": {},
   "outputs": [],
   "source": []
  },
  {
   "cell_type": "code",
   "execution_count": null,
   "id": "5f759cdc",
   "metadata": {},
   "outputs": [],
   "source": []
  },
  {
   "cell_type": "code",
   "execution_count": null,
   "id": "debca698",
   "metadata": {},
   "outputs": [],
   "source": []
  },
  {
   "cell_type": "code",
   "execution_count": null,
   "id": "f7b842f5",
   "metadata": {},
   "outputs": [],
   "source": []
  },
  {
   "cell_type": "code",
   "execution_count": null,
   "id": "f5ff09ec",
   "metadata": {},
   "outputs": [],
   "source": []
  },
  {
   "cell_type": "code",
   "execution_count": null,
   "id": "5afdc0cc",
   "metadata": {},
   "outputs": [],
   "source": []
  },
  {
   "cell_type": "code",
   "execution_count": null,
   "id": "61f61d3d",
   "metadata": {},
   "outputs": [],
   "source": []
  },
  {
   "cell_type": "code",
   "execution_count": null,
   "id": "c40dd472",
   "metadata": {},
   "outputs": [],
   "source": []
  },
  {
   "cell_type": "code",
   "execution_count": null,
   "id": "80e16820",
   "metadata": {},
   "outputs": [],
   "source": []
  },
  {
   "cell_type": "code",
   "execution_count": null,
   "id": "143172af",
   "metadata": {},
   "outputs": [],
   "source": []
  },
  {
   "cell_type": "code",
   "execution_count": null,
   "id": "a6fbe377",
   "metadata": {},
   "outputs": [],
   "source": []
  },
  {
   "cell_type": "code",
   "execution_count": null,
   "id": "9c1da0bd",
   "metadata": {},
   "outputs": [],
   "source": []
  },
  {
   "cell_type": "code",
   "execution_count": null,
   "id": "daff824a",
   "metadata": {},
   "outputs": [],
   "source": []
  },
  {
   "cell_type": "code",
   "execution_count": null,
   "id": "eb95016f",
   "metadata": {},
   "outputs": [],
   "source": []
  },
  {
   "cell_type": "code",
   "execution_count": null,
   "id": "928893ed",
   "metadata": {},
   "outputs": [],
   "source": []
  },
  {
   "cell_type": "code",
   "execution_count": null,
   "id": "39538d7a",
   "metadata": {},
   "outputs": [],
   "source": []
  },
  {
   "cell_type": "code",
   "execution_count": null,
   "id": "2a667732",
   "metadata": {},
   "outputs": [],
   "source": []
  },
  {
   "cell_type": "code",
   "execution_count": null,
   "id": "460431e8",
   "metadata": {},
   "outputs": [],
   "source": []
  },
  {
   "cell_type": "code",
   "execution_count": null,
   "id": "b096a94a",
   "metadata": {},
   "outputs": [],
   "source": []
  },
  {
   "cell_type": "code",
   "execution_count": null,
   "id": "2547e61e",
   "metadata": {},
   "outputs": [],
   "source": []
  },
  {
   "cell_type": "code",
   "execution_count": null,
   "id": "ed08cab4",
   "metadata": {},
   "outputs": [],
   "source": []
  },
  {
   "cell_type": "code",
   "execution_count": null,
   "id": "5ce262fc",
   "metadata": {},
   "outputs": [],
   "source": []
  },
  {
   "cell_type": "code",
   "execution_count": null,
   "id": "7b1c1ac1",
   "metadata": {},
   "outputs": [],
   "source": []
  },
  {
   "cell_type": "code",
   "execution_count": null,
   "id": "51f36907",
   "metadata": {},
   "outputs": [],
   "source": []
  },
  {
   "cell_type": "code",
   "execution_count": null,
   "id": "51ab8cb3",
   "metadata": {},
   "outputs": [],
   "source": []
  },
  {
   "cell_type": "code",
   "execution_count": null,
   "id": "1597aea9",
   "metadata": {},
   "outputs": [],
   "source": []
  },
  {
   "cell_type": "code",
   "execution_count": null,
   "id": "ef6f133f",
   "metadata": {},
   "outputs": [],
   "source": []
  },
  {
   "cell_type": "code",
   "execution_count": null,
   "id": "04676592",
   "metadata": {},
   "outputs": [],
   "source": []
  },
  {
   "cell_type": "code",
   "execution_count": null,
   "id": "a57cac09",
   "metadata": {},
   "outputs": [],
   "source": []
  },
  {
   "cell_type": "code",
   "execution_count": null,
   "id": "802a1c1f",
   "metadata": {},
   "outputs": [],
   "source": []
  },
  {
   "cell_type": "code",
   "execution_count": null,
   "id": "6a215288",
   "metadata": {},
   "outputs": [],
   "source": []
  },
  {
   "cell_type": "code",
   "execution_count": null,
   "id": "a83fb9ec",
   "metadata": {},
   "outputs": [],
   "source": []
  },
  {
   "cell_type": "code",
   "execution_count": null,
   "id": "65f73612",
   "metadata": {},
   "outputs": [],
   "source": []
  },
  {
   "cell_type": "code",
   "execution_count": null,
   "id": "4af2a4e2",
   "metadata": {},
   "outputs": [],
   "source": []
  },
  {
   "cell_type": "code",
   "execution_count": null,
   "id": "1ec85efb",
   "metadata": {},
   "outputs": [],
   "source": []
  },
  {
   "cell_type": "code",
   "execution_count": null,
   "id": "cba39f79",
   "metadata": {},
   "outputs": [],
   "source": []
  },
  {
   "cell_type": "code",
   "execution_count": null,
   "id": "35c33b04",
   "metadata": {},
   "outputs": [],
   "source": []
  },
  {
   "cell_type": "code",
   "execution_count": null,
   "id": "330144ff",
   "metadata": {},
   "outputs": [],
   "source": []
  },
  {
   "cell_type": "code",
   "execution_count": null,
   "id": "a920b06c",
   "metadata": {},
   "outputs": [],
   "source": []
  },
  {
   "cell_type": "code",
   "execution_count": null,
   "id": "e7ee7fbf",
   "metadata": {},
   "outputs": [],
   "source": []
  },
  {
   "cell_type": "code",
   "execution_count": null,
   "id": "cfbeeb26",
   "metadata": {},
   "outputs": [],
   "source": []
  },
  {
   "cell_type": "code",
   "execution_count": null,
   "id": "3b2b42ee",
   "metadata": {},
   "outputs": [],
   "source": []
  },
  {
   "cell_type": "code",
   "execution_count": null,
   "id": "1ccf0285",
   "metadata": {},
   "outputs": [],
   "source": []
  },
  {
   "cell_type": "code",
   "execution_count": null,
   "id": "d1f49796",
   "metadata": {},
   "outputs": [],
   "source": []
  },
  {
   "cell_type": "code",
   "execution_count": null,
   "id": "a38efbdc",
   "metadata": {},
   "outputs": [],
   "source": []
  },
  {
   "cell_type": "code",
   "execution_count": null,
   "id": "a82f82a8",
   "metadata": {},
   "outputs": [],
   "source": []
  },
  {
   "cell_type": "code",
   "execution_count": null,
   "id": "a30567be",
   "metadata": {},
   "outputs": [],
   "source": []
  },
  {
   "cell_type": "code",
   "execution_count": null,
   "id": "faebc9bc",
   "metadata": {},
   "outputs": [],
   "source": []
  },
  {
   "cell_type": "code",
   "execution_count": null,
   "id": "f5fdfe10",
   "metadata": {},
   "outputs": [],
   "source": []
  },
  {
   "cell_type": "code",
   "execution_count": null,
   "id": "8d843dec",
   "metadata": {},
   "outputs": [],
   "source": []
  },
  {
   "cell_type": "code",
   "execution_count": null,
   "id": "d5cafe03",
   "metadata": {},
   "outputs": [],
   "source": []
  },
  {
   "cell_type": "code",
   "execution_count": null,
   "id": "f4560505",
   "metadata": {},
   "outputs": [],
   "source": []
  },
  {
   "cell_type": "code",
   "execution_count": null,
   "id": "a4572106",
   "metadata": {},
   "outputs": [],
   "source": []
  },
  {
   "cell_type": "code",
   "execution_count": null,
   "id": "09f8ee4e",
   "metadata": {},
   "outputs": [],
   "source": []
  },
  {
   "cell_type": "code",
   "execution_count": null,
   "id": "d782059d",
   "metadata": {},
   "outputs": [],
   "source": []
  },
  {
   "cell_type": "code",
   "execution_count": null,
   "id": "63cdb11e",
   "metadata": {},
   "outputs": [],
   "source": []
  },
  {
   "cell_type": "code",
   "execution_count": null,
   "id": "248eb243",
   "metadata": {},
   "outputs": [],
   "source": []
  },
  {
   "cell_type": "code",
   "execution_count": null,
   "id": "d9569284",
   "metadata": {},
   "outputs": [],
   "source": []
  },
  {
   "cell_type": "code",
   "execution_count": null,
   "id": "5f9c21f7",
   "metadata": {},
   "outputs": [],
   "source": []
  },
  {
   "cell_type": "code",
   "execution_count": null,
   "id": "379a8f74",
   "metadata": {},
   "outputs": [],
   "source": []
  },
  {
   "cell_type": "code",
   "execution_count": null,
   "id": "5d868fae",
   "metadata": {},
   "outputs": [],
   "source": []
  },
  {
   "cell_type": "code",
   "execution_count": null,
   "id": "8f37ae93",
   "metadata": {},
   "outputs": [],
   "source": []
  },
  {
   "cell_type": "code",
   "execution_count": null,
   "id": "f5a64aaa",
   "metadata": {},
   "outputs": [],
   "source": []
  },
  {
   "cell_type": "code",
   "execution_count": null,
   "id": "9cd8ac6b",
   "metadata": {},
   "outputs": [],
   "source": []
  },
  {
   "cell_type": "code",
   "execution_count": null,
   "id": "ecacfd08",
   "metadata": {},
   "outputs": [],
   "source": []
  },
  {
   "cell_type": "code",
   "execution_count": null,
   "id": "ad0f7d0b",
   "metadata": {},
   "outputs": [],
   "source": []
  },
  {
   "cell_type": "code",
   "execution_count": null,
   "id": "ce54eda9",
   "metadata": {},
   "outputs": [],
   "source": []
  },
  {
   "cell_type": "code",
   "execution_count": null,
   "id": "b3431569",
   "metadata": {},
   "outputs": [],
   "source": []
  },
  {
   "cell_type": "code",
   "execution_count": null,
   "id": "21bd5aea",
   "metadata": {},
   "outputs": [],
   "source": []
  },
  {
   "cell_type": "code",
   "execution_count": null,
   "id": "9755a22a",
   "metadata": {},
   "outputs": [],
   "source": []
  },
  {
   "cell_type": "code",
   "execution_count": null,
   "id": "c3542acf",
   "metadata": {},
   "outputs": [],
   "source": []
  },
  {
   "cell_type": "code",
   "execution_count": null,
   "id": "8fa7e5fe",
   "metadata": {},
   "outputs": [],
   "source": []
  },
  {
   "cell_type": "code",
   "execution_count": null,
   "id": "13f4742e",
   "metadata": {},
   "outputs": [],
   "source": []
  },
  {
   "cell_type": "code",
   "execution_count": null,
   "id": "de68feb6",
   "metadata": {},
   "outputs": [],
   "source": []
  },
  {
   "cell_type": "code",
   "execution_count": null,
   "id": "60a7f051",
   "metadata": {},
   "outputs": [],
   "source": []
  },
  {
   "cell_type": "code",
   "execution_count": null,
   "id": "934f6b37",
   "metadata": {},
   "outputs": [],
   "source": []
  },
  {
   "cell_type": "code",
   "execution_count": null,
   "id": "56890a26",
   "metadata": {},
   "outputs": [],
   "source": []
  },
  {
   "cell_type": "code",
   "execution_count": null,
   "id": "15a0d4c9",
   "metadata": {},
   "outputs": [],
   "source": []
  },
  {
   "cell_type": "code",
   "execution_count": null,
   "id": "459bb089",
   "metadata": {},
   "outputs": [],
   "source": []
  },
  {
   "cell_type": "code",
   "execution_count": null,
   "id": "c3492178",
   "metadata": {},
   "outputs": [],
   "source": []
  },
  {
   "cell_type": "code",
   "execution_count": null,
   "id": "6a7d4a97",
   "metadata": {},
   "outputs": [],
   "source": []
  },
  {
   "cell_type": "code",
   "execution_count": null,
   "id": "b225cf6e",
   "metadata": {},
   "outputs": [],
   "source": []
  },
  {
   "cell_type": "code",
   "execution_count": null,
   "id": "1072ab01",
   "metadata": {},
   "outputs": [],
   "source": []
  },
  {
   "cell_type": "code",
   "execution_count": null,
   "id": "76e5061d",
   "metadata": {},
   "outputs": [],
   "source": []
  }
 ],
 "metadata": {
  "kernelspec": {
   "display_name": "Python 3",
   "language": "python",
   "name": "python3"
  },
  "language_info": {
   "codemirror_mode": {
    "name": "ipython",
    "version": 3
   },
   "file_extension": ".py",
   "mimetype": "text/x-python",
   "name": "python",
   "nbconvert_exporter": "python",
   "pygments_lexer": "ipython3",
   "version": "3.13.5"
  }
 },
 "nbformat": 4,
 "nbformat_minor": 5
}
