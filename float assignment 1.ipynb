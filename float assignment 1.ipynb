{
 "cells": [
  {
   "cell_type": "code",
   "execution_count": 1,
   "id": "0c147487",
   "metadata": {},
   "outputs": [
    {
     "data": {
      "text/plain": [
       "2.01325"
      ]
     },
     "execution_count": 1,
     "metadata": {},
     "output_type": "execute_result"
    }
   ],
   "source": [
    "# Question 1: Calculate the average of 3.14, 2.718, 1.618, 0.577\n",
    "num = [3.14, 2.718, 1.618, 0.577]\n",
    "sum(num) / 4"
   ]
  },
  {
   "cell_type": "code",
   "execution_count": 2,
   "id": "a3a6f787",
   "metadata": {},
   "outputs": [
    {
     "name": "stdout",
     "output_type": "stream",
     "text": [
      "37.0\n"
     ]
    }
   ],
   "source": [
    "# Question 2: Convert 98.6 Fahrenheit to Celsius (F = C * 9/5 + 32)\n",
    "F = 98.6\n",
    "c = (F - 32) * 5 / 9\n",
    "print(c)"
   ]
  },
  {
   "cell_type": "code",
   "execution_count": 3,
   "id": "d9d734b0",
   "metadata": {},
   "outputs": [
    {
     "name": "stdout",
     "output_type": "stream",
     "text": [
      "174.24137499999983\n"
     ]
    }
   ],
   "source": [
    "# Question 3: Calculate the compound interest on $1000 at 5.5% for 3 years\n",
    "p = 1000\n",
    "t = 3\n",
    "r = 0.055\n",
    "n = 1\n",
    "\n",
    "A = p * (1 + r/n) ** (n * t)\n",
    "com_int = A - p\n",
    "print(com_int)"
   ]
  },
  {
   "cell_type": "code",
   "execution_count": 4,
   "id": "0d215480",
   "metadata": {},
   "outputs": [
    {
     "name": "stdout",
     "output_type": "stream",
     "text": [
      "5.4671747731346585\n"
     ]
    }
   ],
   "source": [
    "\n",
    "# Question 4: Find the hypotenuse of a right triangle with sides 3.5 and 4.2\n",
    "a = 3.5\n",
    "b = 4.2\n",
    "c = ((a**2 + b**2) ** (1 / 2))  # sqrt(a square + b square)\n",
    "print(c)"
   ]
  },
  {
   "cell_type": "code",
   "execution_count": 5,
   "id": "597eed16",
   "metadata": {},
   "outputs": [
    {
     "data": {
      "text/plain": [
       "5.4671747731346585"
      ]
     },
     "execution_count": 5,
     "metadata": {},
     "output_type": "execute_result"
    }
   ],
   "source": [
    "((a**2+b**2)**0.5)"
   ]
  },
  {
   "cell_type": "code",
   "execution_count": 7,
   "id": "01fac669",
   "metadata": {},
   "outputs": [
    {
     "name": "stdout",
     "output_type": "stream",
     "text": [
      "1987.798769261791\n"
     ]
    }
   ],
   "source": [
    "# Question 5: Calculate the volume of a sphere with radius 7.8\n",
    "import math\n",
    "r = 7.8 \n",
    "vol = (4/3) * math.pi * (r ** 3) # 4/3 - pi*r cube\n",
    "print(vol)"
   ]
  },
  {
   "cell_type": "code",
   "execution_count": 9,
   "id": "57dc9859",
   "metadata": {},
   "outputs": [
    {
     "name": "stdout",
     "output_type": "stream",
     "text": [
      "3.142\n"
     ]
    }
   ],
   "source": [
    "# Question 6: Round 3.14159 to 3 decimal places\n",
    "r = 3.14159\n",
    "print(round(r,3))"
   ]
  },
  {
   "cell_type": "code",
   "execution_count": 8,
   "id": "316e77e4",
   "metadata": {},
   "outputs": [
    {
     "data": {
      "text/plain": [
       "67.16417910447761"
      ]
     },
     "execution_count": 8,
     "metadata": {},
     "output_type": "execute_result"
    }
   ],
   "source": [
    "# Question 7: Calculate the percentage: 45 out of 67\n",
    "45/67 * 100"
   ]
  },
  {
   "cell_type": "code",
   "execution_count": 10,
   "id": "acbf5100",
   "metadata": {},
   "outputs": [
    {
     "data": {
      "text/plain": [
       "4.843139477652899"
      ]
     },
     "execution_count": 10,
     "metadata": {},
     "output_type": "execute_result"
    }
   ],
   "source": [
    "# Question 8: Find the square root of 23.456\n",
    "math.sqrt(23.456)"
   ]
  },
  {
   "cell_type": "code",
   "execution_count": 11,
   "id": "f48bf5a9",
   "metadata": {},
   "outputs": [
    {
     "name": "stdout",
     "output_type": "stream",
     "text": [
      "406.25\n"
     ]
    }
   ],
   "source": [
    "# Question 9: Calculate the simple interest: Principal=2500, Rate=6.5%, Time=2.5 years\n",
    "p = 2500\n",
    "t = 2.5\n",
    "r = 6.5\n",
    "\n",
    "si = p * t * r / 100\n",
    "print(si)"
   ]
  },
  {
   "cell_type": "code",
   "execution_count": 12,
   "id": "ee4032f0",
   "metadata": {},
   "outputs": [
    {
     "name": "stdout",
     "output_type": "stream",
     "text": [
      "0.7976154681614086\n"
     ]
    }
   ],
   "source": [
    "# Question 10: Convert 45.7 degrees to radians\n",
    "d = 45.7\n",
    "rad = d * (math.pi / 180)\n",
    "print(rad)"
   ]
  },
  {
   "cell_type": "code",
   "execution_count": null,
   "id": "8c3b9db5",
   "metadata": {},
   "outputs": [],
   "source": []
  }
 ],
 "metadata": {
  "kernelspec": {
   "display_name": "Python 3",
   "language": "python",
   "name": "python3"
  },
  "language_info": {
   "codemirror_mode": {
    "name": "ipython",
    "version": 3
   },
   "file_extension": ".py",
   "mimetype": "text/x-python",
   "name": "python",
   "nbconvert_exporter": "python",
   "pygments_lexer": "ipython3",
   "version": "3.13.5"
  }
 },
 "nbformat": 4,
 "nbformat_minor": 5
}
