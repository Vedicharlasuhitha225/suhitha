{
 "cells": [
  {
   "cell_type": "code",
   "execution_count": null,
   "id": "527b74db",
   "metadata": {},
   "outputs": [],
   "source": [
    "import string"
   ]
  },
  {
   "cell_type": "code",
   "execution_count": 1,
   "id": "20ab48c1",
   "metadata": {},
   "outputs": [
    {
     "data": {
      "text/plain": [
       "'gnimmargorP nohtyP'"
      ]
     },
     "execution_count": 1,
     "metadata": {},
     "output_type": "execute_result"
    }
   ],
   "source": [
    "# Question 1: Reverse the string \"Python Programming\"\n",
    "string = \"Python Programming\"\n",
    "string[::-1]"
   ]
  },
  {
   "cell_type": "code",
   "execution_count": 2,
   "id": "e55228e3",
   "metadata": {},
   "outputs": [
    {
     "name": "stdout",
     "output_type": "stream",
     "text": [
      "it is a palidrome\n"
     ]
    }
   ],
   "source": [
    "# Question 2: Check if \"racecar\" is a palindrome\n",
    "word = 'racecar'\n",
    "if word == word[::-1]:\n",
    "    print(\"it is a palidrome\")\n",
    "else:\n",
    "    print(\"it is not a palidrome\")"
   ]
  },
  {
   "cell_type": "code",
   "execution_count": 6,
   "id": "a174ec94",
   "metadata": {},
   "outputs": [
    {
     "data": {
      "text/plain": [
       "6"
      ]
     },
     "execution_count": 6,
     "metadata": {},
     "output_type": "execute_result"
    }
   ],
   "source": [
    "# Question 3: Count the number of words in \"Python is a great programming language\"\n",
    "a = \"Python is a great programming language\"\n",
    "len(a.split())"
   ]
  },
  {
   "cell_type": "code",
   "execution_count": 8,
   "id": "34693cc5",
   "metadata": {},
   "outputs": [
    {
     "data": {
      "text/plain": [
       "'Hello World'"
      ]
     },
     "execution_count": 8,
     "metadata": {},
     "output_type": "execute_result"
    }
   ],
   "source": [
    "# Question 4: Convert \"hello world\" to title case\n",
    "a = \"hello world\"\n",
    "a.title()"
   ]
  },
  {
   "cell_type": "code",
   "execution_count": 5,
   "id": "2672d5d5",
   "metadata": {},
   "outputs": [
    {
     "data": {
      "text/plain": [
       "12"
      ]
     },
     "execution_count": 5,
     "metadata": {},
     "output_type": "execute_result"
    }
   ],
   "source": [
    "# Question 5: Find the length of string \"Data Science\"\n",
    "x = \"Data Science\"\n",
    "len(x)"
   ]
  },
  {
   "cell_type": "code",
   "execution_count": 7,
   "id": "94be3f23",
   "metadata": {},
   "outputs": [
    {
     "data": {
      "text/plain": [
       "'Machine_Learning'"
      ]
     },
     "execution_count": 7,
     "metadata": {},
     "output_type": "execute_result"
    }
   ],
   "source": [
    "# Question 6: Replace all spaces with underscores in \"Machine Learning\"\n",
    "s = \"Machine Learning\"\n",
    "s.replace(' ', '_')"
   ]
  },
  {
   "cell_type": "code",
   "execution_count": null,
   "id": "b89bb1c7",
   "metadata": {},
   "outputs": [
    {
     "name": "stdout",
     "output_type": "stream",
     "text": [
      "True\n"
     ]
    }
   ],
   "source": [
    "# Question 7: Check if \"python\" is in \"Python Programming Language\"\n",
    "c = \"Python Programming Language\"\n",
    "print('Python' in che)\n"
   ]
  },
  {
   "cell_type": "code",
   "execution_count": null,
   "id": "2701661f",
   "metadata": {},
   "outputs": [
    {
     "data": {
      "text/plain": [
       "'Artifi'"
      ]
     },
     "execution_count": 2,
     "metadata": {},
     "output_type": "execute_result"
    }
   ],
   "source": [
    "# Question 8: Extract the first 5 characters from \"Artificial Intelligence\"\n",
    "s = \"Artificial Intelligence\"\n",
    "s[0:6]"
   ]
  },
  {
   "cell_type": "code",
   "execution_count": 3,
   "id": "aeecb165",
   "metadata": {},
   "outputs": [
    {
     "data": {
      "text/plain": [
       "'uppercase'"
      ]
     },
     "execution_count": 3,
     "metadata": {},
     "output_type": "execute_result"
    }
   ],
   "source": [
    "# Question 9: Convert \"UPPERCASE\" to lowercase\n",
    "a = 'UPPERCASE'\n",
    "a.swapcase()"
   ]
  },
  {
   "cell_type": "code",
   "execution_count": 4,
   "id": "59e56819",
   "metadata": {},
   "outputs": [
    {
     "name": "stdout",
     "output_type": "stream",
     "text": [
      "Cmptr Scnc\n"
     ]
    }
   ],
   "source": [
    "# Question 10: Remove all vowels from \"Computer Science\"\n",
    "a = \"Computer Science\"\n",
    "vowels = 'aeiouAEIOU'\n",
    "result = ''.join(i for i in a if i not in vowels)\n",
    "print(result)"
   ]
  },
  {
   "cell_type": "code",
   "execution_count": 5,
   "id": "eba66bff",
   "metadata": {},
   "outputs": [
    {
     "name": "stdout",
     "output_type": "stream",
     "text": [
      "i\n"
     ]
    }
   ],
   "source": [
    "# Question 11: Find the most frequent character in \"mississippi\"\n",
    "char = 'mississippi'\n",
    "frequency = {}\n",
    "for i in char:\n",
    "    frequency[i] = frequency.get(i,0)+1\n",
    "most_frequency = max(frequency, key = frequency.get)\n",
    "print(most_frequency)"
   ]
  },
  {
   "cell_type": "code",
   "execution_count": 9,
   "id": "fc218ea6",
   "metadata": {},
   "outputs": [
    {
     "data": {
      "text/plain": [
       "'Python Programming Language'"
      ]
     },
     "execution_count": 9,
     "metadata": {},
     "output_type": "execute_result"
    }
   ],
   "source": [
    "# Question 13: Capitalize first letter of each word in \"python programming language\"\n",
    "let = \"python programming language\"\n",
    "let.title()"
   ]
  },
  {
   "cell_type": "code",
   "execution_count": 12,
   "id": "83ff661f",
   "metadata": {},
   "outputs": [
    {
     "name": "stdout",
     "output_type": "stream",
     "text": [
      "yes it is same\n"
     ]
    }
   ],
   "source": [
    "# Question 12: Check if two strings are anagrams: \"listen\" and \"silent\"\n",
    "a = input()\n",
    "b = input()\n",
    "\n",
    "if sorted(a) == sorted(b):\n",
    "    print('yes it is same')\n",
    "else:\n",
    "    print('it is not same')"
   ]
  },
  {
   "cell_type": "code",
   "execution_count": null,
   "id": "a521af0f",
   "metadata": {},
   "outputs": [],
   "source": [
    "# Question 14: Count consonants in \"Hello World\"\n",
    "let = \"Hello World\"\n",
    "vowels = 'aeiouAEIOU'\n",
    "result = ''.join(i for i in let if i not in vowels)\n",
    "len(result)"
   ]
  },
  {
   "cell_type": "code",
   "execution_count": 15,
   "id": "403d750d",
   "metadata": {},
   "outputs": [
    {
     "data": {
      "text/plain": [
       "'Python Programming Language'"
      ]
     },
     "execution_count": 15,
     "metadata": {},
     "output_type": "execute_result"
    }
   ],
   "source": [
    "# Question 13: Capitalize first letter of each word in \"python programming language\"\n",
    "l = \"python programming language\"\n",
    "l.title()"
   ]
  },
  {
   "cell_type": "code",
   "execution_count": 16,
   "id": "be2fcfdb",
   "metadata": {},
   "outputs": [
    {
     "data": {
      "text/plain": [
       "'programming'"
      ]
     },
     "execution_count": 16,
     "metadata": {},
     "output_type": "execute_result"
    }
   ],
   "source": [
    "# Question 15: Find the longest word in \"Python is a programming language\"\n",
    "s = \"Python is a programming language\"\n",
    "max(s.split(), key = len)"
   ]
  },
  {
   "cell_type": "code",
   "execution_count": 21,
   "id": "085fa9fd",
   "metadata": {},
   "outputs": [
    {
     "data": {
      "text/plain": [
       "True"
      ]
     },
     "execution_count": 21,
     "metadata": {},
     "output_type": "execute_result"
    }
   ],
   "source": [
    "# Question 17: Check if string starts with \"Python\"\n",
    "line = 'Python'\n",
    "line.startswith('Python')"
   ]
  },
  {
   "cell_type": "code",
   "execution_count": null,
   "id": "73b29873",
   "metadata": {},
   "outputs": [],
   "source": [
    "# Question 18: Find the index of first occurrence of 'o' in \"Hello World\"\n",
    "line = \"Hello World\"\n",
    "line.index('o')"
   ]
  },
  {
   "cell_type": "code",
   "execution_count": null,
   "id": "b0077e6c",
   "metadata": {},
   "outputs": [],
   "source": [
    "# Question 16: Remove all punctuation from \"Hello, World! How are you?"
   ]
  },
  {
   "cell_type": "code",
   "execution_count": 22,
   "id": "55778d91",
   "metadata": {},
   "outputs": [
    {
     "data": {
      "text/plain": [
       "['apple', 'banana', 'orange']"
      ]
     },
     "execution_count": 22,
     "metadata": {},
     "output_type": "execute_result"
    }
   ],
   "source": [
    "# Question 19: Split string \"apple,banana,orange\" by comma\n",
    "var = \"apple,banana,orange\"\n",
    "var.split(',')"
   ]
  },
  {
   "cell_type": "code",
   "execution_count": 23,
   "id": "7ce19cc2",
   "metadata": {},
   "outputs": [
    {
     "data": {
      "text/plain": [
       "'Python is awesome'"
      ]
     },
     "execution_count": 23,
     "metadata": {},
     "output_type": "execute_result"
    }
   ],
   "source": [
    "# Question 20: Join list ['Python', 'is', 'awesome'] with spaces\n",
    "char = ['Python', 'is', 'awesome']\n",
    "new = ' '.join(char)\n",
    "new"
   ]
  },
  {
   "cell_type": "code",
   "execution_count": 25,
   "id": "21b629f6",
   "metadata": {},
   "outputs": [
    {
     "data": {
      "text/plain": [
       "True"
      ]
     },
     "execution_count": 25,
     "metadata": {},
     "output_type": "execute_result"
    }
   ],
   "source": [
    "# Question 21: Check if string contains only digits: \"12345\"\n",
    "s = \"12345\"\n",
    "s.isdigit()"
   ]
  },
  {
   "cell_type": "code",
   "execution_count": 26,
   "id": "10de3bc6",
   "metadata": {},
   "outputs": [
    {
     "data": {
      "text/plain": [
       "True"
      ]
     },
     "execution_count": 26,
     "metadata": {},
     "output_type": "execute_result"
    }
   ],
   "source": [
    "# Question 22: Check if string contains only letters: \"HelloWorld\"\n",
    "l = \"HelloWorld\"\n",
    "l.isalpha()"
   ]
  },
  {
   "cell_type": "code",
   "execution_count": 27,
   "id": "4b5c7404",
   "metadata": {},
   "outputs": [
    {
     "data": {
      "text/plain": [
       "'hElLo wOrLd'"
      ]
     },
     "execution_count": 27,
     "metadata": {},
     "output_type": "execute_result"
    }
   ],
   "source": [
    "# Question 23: Convert \"hello world\" to \"hElLo WoRlD\" (alternating case)\n",
    "l = \"hello world\"\n",
    "result = ''\n",
    "i = 0\n",
    "for x in l:\n",
    "    if i % 2 == 0:\n",
    "        result += x.lower()\n",
    "    else:\n",
    "        result += x.upper()\n",
    "    i += 1\n",
    "result"
   ]
  },
  {
   "cell_type": "code",
   "execution_count": 28,
   "id": "a29c028e",
   "metadata": {},
   "outputs": [
    {
     "data": {
      "text/plain": [
       "[1, 3, 5]"
      ]
     },
     "execution_count": 28,
     "metadata": {},
     "output_type": "execute_result"
    }
   ],
   "source": [
    "# Question 24: Find all positions of 'a' in \"banana\"\n",
    "a = \"banana\"\n",
    "new = [i for i, val in enumerate(a) if val == 'a']\n",
    "new"
   ]
  },
  {
   "cell_type": "code",
   "execution_count": 29,
   "id": "f7cdfc4f",
   "metadata": {},
   "outputs": [
    {
     "data": {
      "text/plain": [
       "'Hello World'"
      ]
     },
     "execution_count": 29,
     "metadata": {},
     "output_type": "execute_result"
    }
   ],
   "source": [
    "# Question 25: Remove leading and trailing whitespace from \"  Hello World  \"\n",
    "v = \"  Hello World  \"\n",
    "v.strip()"
   ]
  },
  {
   "cell_type": "code",
   "execution_count": 30,
   "id": "a4ec6964",
   "metadata": {},
   "outputs": [
    {
     "data": {
      "text/plain": [
       "True"
      ]
     },
     "execution_count": 30,
     "metadata": {},
     "output_type": "execute_result"
    }
   ],
   "source": [
    "# Question 26: Check if string ends with \"ing\": \"programming\"\n",
    "w= \"programming\"\n",
    "w.endswith('ing')"
   ]
  },
  {
   "cell_type": "code",
   "execution_count": 32,
   "id": "722360db",
   "metadata": {},
   "outputs": [
    {
     "data": {
      "text/plain": [
       "'Hell0 World'"
      ]
     },
     "execution_count": 32,
     "metadata": {},
     "output_type": "execute_result"
    }
   ],
   "source": [
    " #Question 27: Replace first occurrence of 'o' with '0' in \"Hello World\"\n",
    "v = \"Hello World\"\n",
    "v.replace('o', '0',1)"
   ]
  },
  {
   "cell_type": "code",
   "execution_count": 33,
   "id": "9d890179",
   "metadata": {},
   "outputs": [
    {
     "data": {
      "text/plain": [
       "'a'"
      ]
     },
     "execution_count": 33,
     "metadata": {},
     "output_type": "execute_result"
    }
   ],
   "source": [
    "# Question 28: Find the shortest word in \"Python is a programming language\"\n",
    "l = \"Python is a programming language\"\n",
    "just = l.split()\n",
    "min(just, key = len)"
   ]
  },
  {
   "cell_type": "code",
   "execution_count": 34,
   "id": "969c12e4",
   "metadata": {},
   "outputs": [
    {
     "data": {
      "text/plain": [
       "2"
      ]
     },
     "execution_count": 34,
     "metadata": {},
     "output_type": "execute_result"
    }
   ],
   "source": [
    "# Question 29: Count words that start with 'p' in \"Python programming is powerful\"\n",
    "v = \"Python programming is powerful\"\n",
    "v.count('p')"
   ]
  },
  {
   "cell_type": "code",
   "execution_count": 36,
   "id": "6fd9f891",
   "metadata": {},
   "outputs": [
    {
     "data": {
      "text/plain": [
       "'nohtyP dlroW olleH'"
      ]
     },
     "execution_count": 36,
     "metadata": {},
     "output_type": "execute_result"
    }
   ],
   "source": [
    " #Question 30: Reverse words in \"Hello World Python\"\n",
    "c = \"Hello World Python\"\n",
    "c[::-1]"
   ]
  },
  {
   "cell_type": "code",
   "execution_count": 37,
   "id": "6b8f68ff",
   "metadata": {},
   "outputs": [
    {
     "data": {
      "text/plain": [
       "True"
      ]
     },
     "execution_count": 37,
     "metadata": {},
     "output_type": "execute_result"
    }
   ],
   "source": [
    "# Question 31: Check if string is a valid email format: \"user@example.com\"\n",
    "a = \"user@example.com\"\n",
    "a.endswith(\"@example.com\")"
   ]
  },
  {
   "cell_type": "code",
   "execution_count": 38,
   "id": "6077ca91",
   "metadata": {},
   "outputs": [
    {
     "data": {
      "text/plain": [
       "'com/path'"
      ]
     },
     "execution_count": 38,
     "metadata": {},
     "output_type": "execute_result"
    }
   ],
   "source": [
    "# Question 32: Extract domain from \"https://www.example.com/path\"\n",
    "a = \"https://www.example.com/path\"\n",
    "a.split('.')[2]"
   ]
  },
  {
   "cell_type": "code",
   "execution_count": 39,
   "id": "1e8f4b0d",
   "metadata": {},
   "outputs": [
    {
     "data": {
      "text/plain": [
       "5"
      ]
     },
     "execution_count": 39,
     "metadata": {},
     "output_type": "execute_result"
    }
   ],
   "source": [
    "# Question 33: Count lines in multi-line string\n",
    "t = \"\"\"Python is great\\n.\n",
    "It is easy to learn.\n",
    "It is widely used\n",
    "It is easy to learn.\n",
    "It is widely used.\"\"\"\n",
    "\n",
    "t.count('\\n')"
   ]
  },
  {
   "cell_type": "code",
   "execution_count": 40,
   "id": "5d7715aa",
   "metadata": {},
   "outputs": [
    {
     "data": {
      "text/plain": [
       "{'d', 'l', 'o', 'r', 'w'}"
      ]
     },
     "execution_count": 40,
     "metadata": {},
     "output_type": "execute_result"
    }
   ],
   "source": [
    "# Question 34: Find common characters between \"hello\" and \"world\"\n",
    "b = \"hello\" \n",
    "c = \"world\"\n",
    "r= set(b)\n",
    "r = set(c)\n",
    "r.intersection(r)"
   ]
  },
  {
   "cell_type": "code",
   "execution_count": 41,
   "id": "e36c5814",
   "metadata": {},
   "outputs": [
    {
     "name": "stdout",
     "output_type": "stream",
     "text": [
      "Valid phone number\n"
     ]
    }
   ],
   "source": [
    "# Question 35: Check if string is a valid phone number: \"+1-555-123-4567\"\n",
    "d = \"+1-555-123-4567\"\n",
    "parts = d.split('-')\n",
    "\n",
    "if (\n",
    "    len(parts) == 4 and\n",
    "    parts[0].startswith('+') and parts[0][1:].isdigit() and\n",
    "    parts[1].isdigit() and len(parts[1]) == 3 and\n",
    "    parts[2].isdigit() and len(parts[2]) == 3 and\n",
    "    parts[3].isdigit() and len(parts[3]) == 4\n",
    "):\n",
    "    print(\"Valid phone number\")\n",
    "else:\n",
    "    print(\"inValid phone number\")"
   ]
  },
  {
   "cell_type": "code",
   "execution_count": 44,
   "id": "e1678c96",
   "metadata": {},
   "outputs": [],
   "source": [
    "# Question 36: Extract numbers from \"abc123def456ghi789\"\n"
   ]
  },
  {
   "cell_type": "code",
   "execution_count": 45,
   "id": "0901e92a",
   "metadata": {},
   "outputs": [
    {
     "data": {
      "text/plain": [
       "True"
      ]
     },
     "execution_count": 45,
     "metadata": {},
     "output_type": "execute_result"
    }
   ],
   "source": [
    "# Question 38: Check if string is a valid palindrome ignoring case: \"A man a plan a canal Panama\"\n",
    "p = \"A man a plan a canal Panama\"\n",
    "first = p.replace(' ', '').lower()\n",
    "answer = first == first[::-1]\n",
    "answer"
   ]
  },
  {
   "cell_type": "code",
   "execution_count": 46,
   "id": "3346a147",
   "metadata": {},
   "outputs": [
    {
     "name": "stdout",
     "output_type": "stream",
     "text": [
      "Most common word: the\n",
      "Count: 2\n"
     ]
    }
   ],
   "source": [
    "# Question 39: Find the most common word in \"the quick brown fox jumps over the lazy dog\"\n",
    "sentence = \"the quick brown fox jumps over the lazy dog\"\n",
    "words = sentence.split()\n",
    "\n",
    "# Create a dictionary to count each word\n",
    "word_count = {}\n",
    "\n",
    "for word in words:\n",
    "    if word in word_count:\n",
    "        word_count[word] += 1\n",
    "    else:\n",
    "        word_count[word] = 1\n",
    "\n",
    "# Find the word with the maximum count\n",
    "most_common_word = max(word_count, key=word_count.get)\n",
    "\n",
    "print(\"Most common word:\", most_common_word)\n",
    "print(\"Count:\", word_count[most_common_word])"
   ]
  },
  {
   "cell_type": "code",
   "execution_count": 47,
   "id": "fc19e9fc",
   "metadata": {},
   "outputs": [
    {
     "data": {
      "text/plain": [
       "'NASA'"
      ]
     },
     "execution_count": 47,
     "metadata": {},
     "output_type": "execute_result"
    }
   ],
   "source": [
    "# Question 40: Generate acronym from \"National Aeronautics and Space Administration\"\n",
    "a = \"National Aeronautics and Space Administration\"\n",
    "word = a.split()\n",
    "\n",
    "ignor = ['and']\n",
    "\n",
    "acro = ''.join(i[0].upper() for i in word if i.lower() not in ignor)\n",
    "acro"
   ]
  },
  {
   "cell_type": "code",
   "execution_count": 48,
   "id": "1d5f8e78",
   "metadata": {},
   "outputs": [
    {
     "name": "stdout",
     "output_type": "stream",
     "text": [
      "True\n"
     ]
    }
   ],
   "source": [
    "# Question 41: Check if string contains balanced parentheses: \"((()))\"\n",
    "new = \"((()))\"\n",
    "opened = new.count('(')\n",
    "closed = new.count(')')\n",
    "\n",
    "# check order and count\n",
    "balanced = opened == closed and new.find(')') > new.find('(')\n",
    "\n",
    "print(balanced)"
   ]
  },
  {
   "cell_type": "code",
   "execution_count": 49,
   "id": "3e7b0a7b",
   "metadata": {},
   "outputs": [
    {
     "name": "stdout",
     "output_type": "stream",
     "text": [
      ".... . .-.. .-.. --- / .-- --- .-. .-.. -..\n"
     ]
    }
   ],
   "source": [
    "# Question 42: Convert \"hello world\" to Morse code\n",
    "morse_dict = {\n",
    "    'A': '.-',    'B': '-...',  'C': '-.-.', 'D': '-..',   'E': '.',\n",
    "    'F': '..-.',  'G': '--.',   'H': '....', 'I': '..',    'J': '.---',\n",
    "    'K': '-.-',   'L': '.-..',  'M': '--',   'N': '-.',    'O': '---',\n",
    "    'P': '.--.',  'Q': '--.-',  'R': '.-.',  'S': '...',   'T': '-',\n",
    "    'U': '..-',   'V': '...-',  'W': '.--',  'X': '-..-',  'Y': '-.--',\n",
    "    'Z': '--..',\n",
    "    '0': '-----', '1': '.----', '2': '..---','3': '...--', '4': '....-',\n",
    "    '5': '.....', '6': '-....', '7': '--...', '8': '---..','9': '----.',\n",
    "    ' ': '/'\n",
    "}\n",
    "text = \"hello world\"\n",
    "morse_code = ' '.join(morse_dict[char.upper()] for char in text)\n",
    "\n",
    "print(morse_code)"
   ]
  },
  {
   "cell_type": "code",
   "execution_count": 50,
   "id": "a1ce58a6",
   "metadata": {},
   "outputs": [
    {
     "name": "stdout",
     "output_type": "stream",
     "text": [
      "True\n"
     ]
    }
   ],
   "source": [
    "# Question 44: Check if string is a valid URL: \"https://www.google.com\"\n",
    "url = \"https://www.google.com\"\n",
    "new = url.startswith('http://') or url.startswith('https://') and '.' in url\n",
    "print(new)"
   ]
  },
  {
   "cell_type": "code",
   "execution_count": 53,
   "id": "908a1d05",
   "metadata": {},
   "outputs": [],
   "source": [
    "# Question 45: Extract all words with length > 5 from \"Python programming is amazing and powerful\"\n",
    "\n"
   ]
  },
  {
   "cell_type": "code",
   "execution_count": null,
   "id": "b233c131",
   "metadata": {},
   "outputs": [],
   "source": []
  }
 ],
 "metadata": {
  "kernelspec": {
   "display_name": "Python 3",
   "language": "python",
   "name": "python3"
  },
  "language_info": {
   "codemirror_mode": {
    "name": "ipython",
    "version": 3
   },
   "file_extension": ".py",
   "mimetype": "text/x-python",
   "name": "python",
   "nbconvert_exporter": "python",
   "pygments_lexer": "ipython3",
   "version": "3.13.5"
  }
 },
 "nbformat": 4,
 "nbformat_minor": 5
}
