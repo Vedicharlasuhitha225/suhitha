{
 "cells": [
  {
   "cell_type": "code",
   "execution_count": 2,
   "id": "368749d0",
   "metadata": {},
   "outputs": [
    {
     "name": "stdout",
     "output_type": "stream",
     "text": [
      "product of 10 natural numbers: 3628800\n"
     ]
    }
   ],
   "source": [
    "#Question 1: Calculate the product of first 10 natural numbers\n",
    "prod=1\n",
    "for i in range(1,11):\n",
    "    prod*=i \n",
    "print(\"product of 10 natural numbers:\",prod)  \n",
    "\n",
    "    \n",
    "\n"
   ]
  },
  {
   "cell_type": "code",
   "execution_count": 3,
   "id": "922af215",
   "metadata": {},
   "outputs": [
    {
     "data": {
      "text/plain": [
       "2"
      ]
     },
     "execution_count": 3,
     "metadata": {},
     "output_type": "execute_result"
    }
   ],
   "source": [
    "#2:Find the remainder when 156 is divided by 7\n",
    "156%7"
   ]
  },
  {
   "cell_type": "code",
   "execution_count": 4,
   "id": "31586cf3",
   "metadata": {},
   "outputs": [
    {
     "data": {
      "text/plain": [
       "625"
      ]
     },
     "execution_count": 4,
     "metadata": {},
     "output_type": "execute_result"
    }
   ],
   "source": [
    "#3:Calculate the square of 25\n",
    "25**2"
   ]
  },
  {
   "cell_type": "code",
   "execution_count": 5,
   "id": "ab0d6cf0",
   "metadata": {},
   "outputs": [
    {
     "data": {
      "text/plain": [
       "1953125"
      ]
     },
     "execution_count": 5,
     "metadata": {},
     "output_type": "execute_result"
    }
   ],
   "source": [
    "# 4.Find the cube root of 125\n",
    "125**3\n"
   ]
  },
  {
   "cell_type": "code",
   "execution_count": 6,
   "id": "b2e7b0b4",
   "metadata": {},
   "outputs": [
    {
     "data": {
      "text/plain": [
       "120"
      ]
     },
     "execution_count": 6,
     "metadata": {},
     "output_type": "execute_result"
    }
   ],
   "source": [
    "#5.Calculate the sum of digits in number 12345\n",
    "1*2*3*4*5"
   ]
  },
  {
   "cell_type": "code",
   "execution_count": null,
   "id": "af0598d3",
   "metadata": {},
   "outputs": [],
   "source": [
    "# 6: Check if 97 is a prime number"
   ]
  },
  {
   "cell_type": "code",
   "execution_count": 7,
   "id": "f412390d",
   "metadata": {},
   "outputs": [
    {
     "name": "stdout",
     "output_type": "stream",
     "text": [
      "factorial of 8 is 40320\n"
     ]
    }
   ],
   "source": [
    "#7: Find the factorial of 8\n",
    "fact=1\n",
    "for i in range(1,9):\n",
    "    fact*=i\n",
    "print(\"factorial of 8 is\",fact)     \n"
   ]
  },
  {
   "cell_type": "code",
   "execution_count": 8,
   "id": "b7fceb4c",
   "metadata": {},
   "outputs": [
    {
     "name": "stdout",
     "output_type": "stream",
     "text": [
      "33.4\n"
     ]
    }
   ],
   "source": [
    "#8: Calculate the average of numbers: 15, 23, 31, 42, 56\")\n",
    "numbers=[15,23,31,42,56]\n",
    "average=sum(numbers) /5\n",
    "print(average)"
   ]
  },
  {
   "cell_type": "code",
   "execution_count": 14,
   "id": "7eda61c2",
   "metadata": {},
   "outputs": [
    {
     "data": {
      "text/plain": [
       "12"
      ]
     },
     "execution_count": 14,
     "metadata": {},
     "output_type": "execute_result"
    }
   ],
   "source": [
    "#9: Find the greatest common divisor (GCD) of 48 and 36\n",
    "import math\n",
    "math.gcd(48,36)\n"
   ]
  },
  {
   "cell_type": "code",
   "execution_count": 15,
   "id": "60c573fd",
   "metadata": {},
   "outputs": [
    {
     "name": "stdout",
     "output_type": "stream",
     "text": [
      "400\n"
     ]
    }
   ],
   "source": [
    "#10: Calculate the sum of first 20 odd numbers\")\n",
    "\n",
    "total = 0\n",
    "for i in range(1,40,2):\n",
    "    total += i\n",
    "print(total)"
   ]
  },
  {
   "cell_type": "code",
   "execution_count": null,
   "id": "3e71e4a7",
   "metadata": {},
   "outputs": [],
   "source": []
  },
  {
   "cell_type": "code",
   "execution_count": null,
   "id": "52ebf37e",
   "metadata": {},
   "outputs": [],
   "source": []
  },
  {
   "cell_type": "code",
   "execution_count": null,
   "id": "e60a2d23",
   "metadata": {},
   "outputs": [],
   "source": []
  },
  {
   "cell_type": "code",
   "execution_count": null,
   "id": "8c747dc9",
   "metadata": {},
   "outputs": [],
   "source": []
  },
  {
   "cell_type": "code",
   "execution_count": null,
   "id": "a44442c5",
   "metadata": {},
   "outputs": [],
   "source": []
  },
  {
   "cell_type": "code",
   "execution_count": null,
   "id": "5ef35d7f",
   "metadata": {},
   "outputs": [],
   "source": []
  },
  {
   "cell_type": "code",
   "execution_count": null,
   "id": "9020f3e6",
   "metadata": {},
   "outputs": [],
   "source": []
  },
  {
   "cell_type": "code",
   "execution_count": null,
   "id": "f4ff5da7",
   "metadata": {},
   "outputs": [],
   "source": []
  },
  {
   "cell_type": "code",
   "execution_count": null,
   "id": "5f68631a",
   "metadata": {},
   "outputs": [],
   "source": []
  },
  {
   "cell_type": "code",
   "execution_count": null,
   "id": "247f6642",
   "metadata": {},
   "outputs": [],
   "source": []
  }
 ],
 "metadata": {
  "kernelspec": {
   "display_name": "Python 3",
   "language": "python",
   "name": "python3"
  },
  "language_info": {
   "codemirror_mode": {
    "name": "ipython",
    "version": 3
   },
   "file_extension": ".py",
   "mimetype": "text/x-python",
   "name": "python",
   "nbconvert_exporter": "python",
   "pygments_lexer": "ipython3",
   "version": "3.13.5"
  }
 },
 "nbformat": 4,
 "nbformat_minor": 5
}
